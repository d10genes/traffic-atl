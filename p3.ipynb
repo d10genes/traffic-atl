{
 "cells": [
  {
   "cell_type": "code",
   "execution_count": null,
   "metadata": {
    "collapsed": false
   },
   "outputs": [],
   "source": [
    "from __future__ import print_function, division\n",
    "\n",
    "# import arrow\n",
    "from dateutil.relativedelta import relativedelta\n",
    "import matplotlib.pyplot as plt\n",
    "import seaborn as sns\n",
    "import numpy as np\n",
    "import pandas as pd\n",
    "from pandas import DataFrame, Series\n",
    "import pandas.util.testing as tm\n",
    "from pandas.util.testing import assert_frame_equal\n",
    "import pypyodbc as odbc\n",
    "import redis\n",
    "import toolz.curried as z\n",
    "xx = list\n",
    "\n",
    "from ast import literal_eval\n",
    "from collections import OrderedDict\n",
    "import csv\n",
    "import datetime as dt\n",
    "from decimal import Decimal\n",
    "from functools import partial as part\n",
    "import hashlib\n",
    "import itertools as it\n",
    "from itertools import starmap, repeat, count\n",
    "from operator import itemgetter as itg, methodcaller as mc, attrgetter as prop\n",
    "import os\n",
    "import re\n",
    "import sys\n",
    "import time\n",
    "\n",
    "import myutils as mu\n",
    "import pandas_utils as pu\n",
    "import vutils as vu\n",
    "pu.psettings(pd, lw=150)"
   ]
  },
  {
   "cell_type": "code",
   "execution_count": 1,
   "metadata": {
    "collapsed": false
   },
   "outputs": [
    {
     "data": {
      "application/javascript": [
       "IPython.keyboard_manager.command_shortcuts.add_shortcut('Ctrl-k','ipython.move-selected-cell-up')\n",
       "IPython.keyboard_manager.command_shortcuts.add_shortcut('Ctrl-j','ipython.move-selected-cell-down')\n",
       "IPython.keyboard_manager.command_shortcuts.add_shortcut('Shift-m','ipython.merge-selected-cell-with-cell-after')"
      ],
      "text/plain": [
       "<IPython.core.display.Javascript object>"
      ]
     },
     "metadata": {},
     "output_type": "display_data"
    }
   ],
   "source": [
    "%%javascript\n",
    "IPython.keyboard_manager.command_shortcuts.add_shortcut('Ctrl-k','ipython.move-selected-cell-up')\n",
    "IPython.keyboard_manager.command_shortcuts.add_shortcut('Ctrl-j','ipython.move-selected-cell-down')\n",
    "IPython.keyboard_manager.command_shortcuts.add_shortcut('Shift-m','ipython.merge-selected-cell-with-cell-after')"
   ]
  },
  {
   "cell_type": "code",
   "execution_count": 2,
   "metadata": {
    "collapsed": false
   },
   "outputs": [],
   "source": [
    "from os.path import join, exists, dirname\n",
    "import os\n",
    "import errno\n",
    "from functools import partial\n",
    "import datetime as dt\n",
    "from dateutil import rrule\n",
    "from datetime import datetime, timedelta\n",
    "import requests"
   ]
  },
  {
   "cell_type": "markdown",
   "metadata": {
    "collapsed": false
   },
   "source": [
    "    s = requests.Session()\n",
    "    s.get('http://trafficserver.transmetric.com/gdot-prod/tcdb.jsp?siteid=135-6287#')\n",
    "    s.id = 43946"
   ]
  },
  {
   "cell_type": "code",
   "execution_count": 10,
   "metadata": {
    "collapsed": true
   },
   "outputs": [],
   "source": [
    "def gen_session(siteid_sess, siteid_url):\n",
    "    s = requests.Session()\n",
    "    s.get('http://trafficserver.transmetric.com/gdot-prod/tcdb.jsp?siteid={}#'.format(siteid_sess))\n",
    "    s.id = siteid_url\n",
    "    dirname = gen_name('', '', siteid_url, dironly=1)\n",
    "    mkdirs(dirname)\n",
    "    return s\n",
    "\n",
    "def xls_getter(year, month, siteid=None, session=requests):\n",
    "    u = (\"http://trafficserver.transmetric.com/gdot-prod/exportexec.jsp\"\n",
    "    \"?source=tcdb_monthxls&siteid={siteid}&year={year}&month={month}&tfVol=02725170146&tfClass=84923669106\")\n",
    "    url = u.format(year=year, month=month, siteid=siteid)\n",
    "    r = session.get(url)\n",
    "    return r    \n",
    "\n",
    "def to_excel(r, fn, dir=''):\n",
    "    with open(fn, 'wb') as f:\n",
    "        for chunk in r.iter_content():\n",
    "            f.write(chunk)\n",
    "    return fn\n",
    "\n",
    "def mkdirs(path):\n",
    "    try:\n",
    "        os.makedirs(path)\n",
    "    except OSError as exc: # Python >2.5\n",
    "        if exc.errno != errno.EEXIST or not os.path.isdir(path):\n",
    "            raise\n",
    "\n",
    "def gen_name(year, month, siteid=None, dironly=False):\n",
    "    dir = join('data', str(siteid))\n",
    "    if dironly:\n",
    "        return dir\n",
    "    return join(dir, '{}_{}.xlsx'.format(year, month))"
   ]
  },
  {
   "cell_type": "code",
   "execution_count": 9,
   "metadata": {
    "collapsed": false
   },
   "outputs": [
    {
     "data": {
      "text/plain": [
       "'data/43946'"
      ]
     },
     "execution_count": 9,
     "metadata": {},
     "output_type": "execute_result"
    }
   ],
   "source": [
    "gen_name('','', 43946, dironly=1)"
   ]
  },
  {
   "cell_type": "markdown",
   "metadata": {},
   "source": [
    "gen_name(2012, 1, siteid=465)"
   ]
  },
  {
   "cell_type": "code",
   "execution_count": 6,
   "metadata": {
    "collapsed": true
   },
   "outputs": [],
   "source": [
    "def fetch(year, month, siteid=None, session=requests, cache=True):\n",
    "    siteid = siteid or session.id\n",
    "    fn = gen_name(year, month, siteid=siteid)\n",
    "    mkdirs(dirname(fn))\n",
    "    \n",
    "    if cache and exists(fn):\n",
    "        print('File pulled. Skipping.')\n",
    "        return fn\n",
    "    \n",
    "    r = xls_getter(year, month, siteid=siteid, session=session)\n",
    "    to_excel(r, fn)\n",
    "    return fn\n",
    "\n",
    "\n",
    "def fetchall(startdate, until, s):\n",
    "    all_months = ((d.year, d.month) for d in rrule.rrule(rrule.MONTHLY, dtstart=startdate, until=until))\n",
    "    fns = []\n",
    "    for yr, mth in all_months:\n",
    "        try:\n",
    "            print(yr, mth)\n",
    "            fn = fetch(yr, mth, session=s)\n",
    "            fns.append(fn)\n",
    "        except Exception as e:\n",
    "            raise(e)\n",
    "    return fns"
   ]
  },
  {
   "cell_type": "markdown",
   "metadata": {
    "collapsed": true
   },
   "source": [
    "fetch(2014, 6, session=s)"
   ]
  },
  {
   "cell_type": "code",
   "execution_count": 4,
   "metadata": {
    "collapsed": false
   },
   "outputs": [],
   "source": []
  },
  {
   "cell_type": "code",
   "execution_count": 5,
   "metadata": {
    "collapsed": true
   },
   "outputs": [],
   "source": [
    "ss = gen_session('http://trafficserver.transmetric.com/gdot-prod/tcdb.jsp?siteid=135-6287#', 43946)"
   ]
  },
  {
   "cell_type": "code",
   "execution_count": 44,
   "metadata": {
    "collapsed": true
   },
   "outputs": [
    {
     "name": "stdout",
     "output_type": "stream",
     "text": [
      "(2014, 2)\n",
      "(2014, 3)\n",
      "(2014, 4)\n",
      "(2014, 5)\n",
      "(2014, 6)\n",
      "(2014, 7)\n",
      "(2014, 8)\n",
      "(2014, 9)\n",
      "(2014, 10)\n",
      "(2014, 11)\n",
      "(2014, 12)\n",
      "(2015, 1)\n",
      "(2015, 2)\n",
      "(2015, 3)\n",
      "(2015, 4)\n",
      "(2015, 5)\n"
     ]
    }
   ],
   "source": [
    "d1 = dt.date(2014, 2, 1)\n",
    "d2 = dt.date(2015, 5, 1)\n",
    "\n",
    "for d in rrule.rrule(rrule.MONTHLY, dtstart=d1, until=d2):\n",
    "    print(d.year, d.month)"
   ]
  },
  {
   "cell_type": "code",
   "execution_count": 57,
   "metadata": {
    "collapsed": true
   },
   "outputs": [],
   "source": []
  },
  {
   "cell_type": "code",
   "execution_count": 10,
   "metadata": {
    "collapsed": true
   },
   "outputs": [
    {
     "name": "stdout",
     "output_type": "stream",
     "text": [
      "(2012, 1)\n",
      "File pulled. Skipping.\n",
      "(2012, 2)\n",
      "File pulled. Skipping.\n",
      "(2012, 3)\n",
      "File pulled. Skipping.\n",
      "(2012, 4)\n",
      "File pulled. Skipping.\n",
      "(2012, 5)\n",
      "File pulled. Skipping.\n",
      "(2012, 6)\n",
      "File pulled. Skipping.\n",
      "(2012, 7)\n",
      "File pulled. Skipping.\n",
      "(2012, 8)\n",
      "File pulled. Skipping.\n",
      "(2012, 9)\n",
      "File pulled. Skipping.\n",
      "(2012, 10)\n",
      "File pulled. Skipping.\n",
      "(2012, 11)\n",
      "File pulled. Skipping.\n",
      "(2012, 12)\n",
      "File pulled. Skipping.\n",
      "(2013, 1)\n",
      "File pulled. Skipping.\n",
      "(2013, 2)\n",
      "File pulled. Skipping.\n",
      "(2013, 3)\n",
      "File pulled. Skipping.\n",
      "(2013, 4)\n",
      "File pulled. Skipping.\n",
      "(2013, 5)\n",
      "File pulled. Skipping.\n",
      "(2013, 6)\n",
      "File pulled. Skipping.\n",
      "(2013, 7)\n",
      "File pulled. Skipping.\n",
      "(2013, 8)\n",
      "File pulled. Skipping.\n",
      "(2013, 9)\n",
      "File pulled. Skipping.\n",
      "(2013, 10)\n",
      "File pulled. Skipping.\n",
      "(2013, 11)\n",
      "File pulled. Skipping.\n",
      "(2013, 12)\n",
      "File pulled. Skipping.\n",
      "(2014, 1)\n",
      "File pulled. Skipping.\n",
      "(2014, 2)\n",
      "File pulled. Skipping.\n",
      "(2014, 3)\n",
      "File pulled. Skipping.\n",
      "(2014, 4)\n",
      "File pulled. Skipping.\n",
      "(2014, 5)\n",
      "File pulled. Skipping.\n",
      "(2014, 6)\n",
      "File pulled. Skipping.\n",
      "(2014, 7)\n",
      "File pulled. Skipping.\n",
      "(2014, 8)\n",
      "File pulled. Skipping.\n",
      "(2014, 9)\n",
      "File pulled. Skipping.\n",
      "(2014, 10)\n",
      "File pulled. Skipping.\n",
      "(2014, 11)\n",
      "File pulled. Skipping.\n",
      "(2014, 12)\n",
      "File pulled. Skipping.\n",
      "(2015, 1)\n",
      "File pulled. Skipping.\n",
      "(2015, 2)\n",
      "File pulled. Skipping.\n",
      "(2015, 3)\n",
      "File pulled. Skipping.\n",
      "(2015, 4)\n",
      "File pulled. Skipping.\n",
      "(2015, 5)\n",
      "File pulled. Skipping.\n",
      "(2015, 6)\n",
      "File pulled. Skipping.\n",
      "(2015, 7)\n",
      "File pulled. Skipping.\n",
      "(2015, 8)\n",
      "File pulled. Skipping.\n"
     ]
    }
   ],
   "source": [
    "fns = fetchall(dt.date(2012, 1, 1), dt.date(2015, 8, 1), ss)"
   ]
  },
  {
   "cell_type": "code",
   "execution_count": null,
   "metadata": {
    "collapsed": false
   },
   "outputs": [],
   "source": [
    "to_excel(r, '{}_{}_{}.xlsx'.format(43946, 2014, 6))"
   ]
  },
  {
   "cell_type": "code",
   "execution_count": 34,
   "metadata": {
    "collapsed": true
   },
   "outputs": [],
   "source": [
    "!open 'data/'"
   ]
  },
  {
   "cell_type": "code",
   "execution_count": null,
   "metadata": {
    "collapsed": true
   },
   "outputs": [],
   "source": [
    "!open 'data/43946_2014_6.xlsx'"
   ]
  },
  {
   "cell_type": "code",
   "execution_count": null,
   "metadata": {
    "collapsed": true
   },
   "outputs": [],
   "source": [
    "to_excel(r, )"
   ]
  },
  {
   "cell_type": "code",
   "execution_count": null,
   "metadata": {
    "collapsed": false
   },
   "outputs": [],
   "source": [
    "r.reason"
   ]
  },
  {
   "cell_type": "code",
   "execution_count": null,
   "metadata": {
    "collapsed": true
   },
   "outputs": [],
   "source": [
    "r.request."
   ]
  },
  {
   "cell_type": "code",
   "execution_count": null,
   "metadata": {
    "collapsed": true
   },
   "outputs": [],
   "source": []
  },
  {
   "cell_type": "code",
   "execution_count": null,
   "metadata": {
    "collapsed": true
   },
   "outputs": [],
   "source": []
  }
 ],
 "metadata": {
  "kernelspec": {
   "display_name": "Python 2",
   "language": "python",
   "name": "python2"
  },
  "language_info": {
   "codemirror_mode": {
    "name": "ipython",
    "version": 2
   },
   "file_extension": ".py",
   "mimetype": "text/x-python",
   "name": "python",
   "nbconvert_exporter": "python",
   "pygments_lexer": "ipython2",
   "version": "2.7.10"
  }
 },
 "nbformat": 4,
 "nbformat_minor": 0
}
