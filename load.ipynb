{
 "cells": [
  {
   "cell_type": "code",
   "execution_count": null,
   "metadata": {
    "collapsed": false
   },
   "outputs": [],
   "source": [
    "%%javascript\n",
    "IPython.keyboard_manager.command_shortcuts.add_shortcut('Ctrl-k','ipython.move-selected-cell-up')\n",
    "IPython.keyboard_manager.command_shortcuts.add_shortcut('Ctrl-j','ipython.move-selected-cell-down')\n",
    "IPython.keyboard_manager.command_shortcuts.add_shortcut('Shift-m','ipython.merge-selected-cell-with-cell-after')"
   ]
  },
  {
   "cell_type": "code",
   "execution_count": null,
   "metadata": {
    "collapsed": false
   },
   "outputs": [],
   "source": [
    "from __future__ import print_function, division\n",
    "from os.path import join, exists, dirname, basename\n",
    "import os\n",
    "import re\n",
    "import errno\n",
    "from functools import partial\n",
    "import datetime as dt\n",
    "from datetime import datetime, timedelta\n",
    "import calendar\n",
    "from collections import Counter\n",
    "from glob import glob\n",
    "import itertools as it\n",
    "\n",
    "import requests\n",
    "from bs4 import BeautifulSoup\n",
    "from dateutil import rrule, relativedelta\n",
    "from dateutil.relativedelta import relativedelta \n",
    "\n",
    "import pandas as pd\n",
    "import toolz.curried as z\n",
    "\n",
    "pd.options.display.notebook_repr_html = False\n",
    "pd.options.display.width = 130"
   ]
  },
  {
   "cell_type": "markdown",
   "metadata": {
    "collapsed": false
   },
   "source": [
    "    s = requests.Session()\n",
    "    s.get('http://trafficserver.transmetric.com/gdot-prod/tcdb.jsp?siteid=135-6287#')\n",
    "    s.id = 43946"
   ]
  },
  {
   "cell_type": "code",
   "execution_count": null,
   "metadata": {
    "collapsed": true
   },
   "outputs": [],
   "source": [
    "def gen_session(siteid_sess):\n",
    "    s, url = gen_session_(siteid_sess)\n",
    "    html = requests.get(url).content\n",
    "    s.id = get_siteid(html)\n",
    "    s.loc_id = siteid_sess\n",
    "    dirname = gen_name('', '', siteid_sess, dironly=1)\n",
    "    mkdirs(dirname)\n",
    "    descfile = join(dirname, 'description.txt')\n",
    "    if not exists(descfile):\n",
    "        txt = get_desc(html)\n",
    "        print('Writing {}'.format(descfile))\n",
    "        with open(descfile, 'wb') as f:\n",
    "            f.write(txt)\n",
    "    return s \n",
    "\n",
    "def gen_session_(siteid_sess):\n",
    "    s = requests.Session()\n",
    "    url = 'http://trafficserver.transmetric.com/gdot-prod/tcdb.jsp?siteid={}#'.format(siteid_sess)\n",
    "    s.get(url)\n",
    "    return s, url\n",
    "\n",
    "\n",
    "def get_desc(html):\n",
    "    tdstyle = {u'style': u'text-align: left; width: 100%; padding-left: 6px; padding-top: 0px;'}\n",
    "    soup = BeautifulSoup(html, 'html.parser')\n",
    "    td = soup.table.tr.findChild(attrs=tdstyle)\n",
    "    return td.text\n",
    "\n",
    "def xls_getter(year, month, siteid=None, session=requests):\n",
    "    u = (\"http://trafficserver.transmetric.com/gdot-prod/exportexec.jsp\"\n",
    "    \"?source=tcdb_monthxls&siteid={siteid}&year={year}&month={month}&tfVol=02725170146&tfClass=84923669106\")\n",
    "    url = u.format(year=year, month=month, siteid=siteid)\n",
    "    r = session.get(url)\n",
    "    return r    \n",
    "\n",
    "def to_excel(r, fn, dir=''):\n",
    "    with open(fn, 'wb') as f:\n",
    "        for chunk in r.iter_content():\n",
    "            f.write(chunk)\n",
    "    return fn\n",
    "\n",
    "def mkdirs(path):\n",
    "    try:\n",
    "        os.makedirs(path)\n",
    "    except OSError as exc: # Python >2.5\n",
    "        if exc.errno != errno.EEXIST or not os.path.isdir(path):\n",
    "            raise\n",
    "\n",
    "def gen_name(year, month, loc_id=None, dironly=False):\n",
    "    dir = join('data', str(loc_id))\n",
    "    if dironly:\n",
    "        return dir\n",
    "    return join(dir, '{}_{}.xlsx'.format(year, month))\n",
    "\n",
    "\n",
    "def fetch(year, month, loc_id=None, session=requests, cache=True):\n",
    "    loc_id = loc_id or session.loc_id\n",
    "    fn = gen_name(year, month, loc_id=loc_id)\n",
    "    #mkdirs(dirname(fn))\n",
    "    \n",
    "    if cache and exists(fn):\n",
    "        print('File pulled. Skipping.')\n",
    "        return fn\n",
    "    \n",
    "    r = xls_getter(year, month, siteid=session.id, session=session)\n",
    "    to_excel(r, fn)\n",
    "    return fn\n",
    "\n",
    "\n",
    "def fetchall(startdate, until, s):\n",
    "    all_months = ((d.year, d.month) for d in rrule.rrule(rrule.MONTHLY, dtstart=startdate, until=until))\n",
    "    fns = []\n",
    "    for yr, mth in all_months:\n",
    "        try:\n",
    "            print(yr, mth)\n",
    "            fn = fetch(yr, mth, session=s)\n",
    "            fns.append(fn)\n",
    "        except Exception as e:\n",
    "            raise(e)\n",
    "    return fns\n",
    "\n",
    "def get_siteid(html):\n",
    "    siteid_pat = re.compile(r\"doShowRawMonth\\('(\\d+)', \\d+, \\d+\\);\")\n",
    "    ctr = Counter(siteid_pat.findall(html))\n",
    "    return sorted(ctr.items(), key=lambda x: -x[1])[0][0]"
   ]
  },
  {
   "cell_type": "code",
   "execution_count": null,
   "metadata": {
    "collapsed": false
   },
   "outputs": [],
   "source": [
    "# ss = gen_session('135-6287', 43946)\n",
    "# ss = gen_session('http://trafficserver.transmetric.com/gdot-prod/tcdb.jsp?siteid=135-6287#', 43946)\n",
    "# rr = gen_session('121-0124') \n",
    "s400 = gen_session('121-5450') "
   ]
  },
  {
   "cell_type": "code",
   "execution_count": null,
   "metadata": {
    "collapsed": true
   },
   "outputs": [],
   "source": [
    "fns = fetchall(dt.date(2012, 1, 1), dt.date(2015, 8, 1), s400)"
   ]
  },
  {
   "cell_type": "markdown",
   "metadata": {},
   "source": [
    "## Read Excel files "
   ]
  },
  {
   "cell_type": "code",
   "execution_count": null,
   "metadata": {
    "collapsed": true
   },
   "outputs": [],
   "source": [
    "p = print"
   ]
  },
  {
   "cell_type": "code",
   "execution_count": null,
   "metadata": {
    "collapsed": false
   },
   "outputs": [],
   "source": [
    "def cols2hrs24(df):\n",
    "    \"Convert columns from `12:00 am,  1:00 am, ...11:00 pm` to `0, 1, ...23`\"\n",
    "    hrs = z.pipe(range(1, 13), it.cycle, z.drop(11), z.take(12), list)\n",
    "    hrs24 = ['{}:00 {}'.format(hr, half) for half in ('am', 'pm') for hr in hrs]\n",
    "    assert all(df.columns[2:] == hrs24), \"Expecting columns of form `12:00 am,  1:00 am, ...11:00 pm`\"\n",
    "    return df.rename(columns=dict(zip(hrs24, map(str, range(24)))))\n",
    "\n",
    "\n",
    "def read_excel(fname, sheetname=0):\n",
    "    # URL scheme subtracted a month from actual contents; correct this\n",
    "    pat = re.compile(r'(\\d{4})_(\\d{1,2})\\.xlsx')\n",
    "#     /p fname\n",
    "#     p(basename(fname))\n",
    "    [(year_, month_)] = pat.findall(basename(fname))\n",
    "    prevmonth = dt.date(int(year_), int(month_), 1)\n",
    "    thismonth = prevmonth + relativedelta(months=1)\n",
    "    (year, month) = thismonth.timetuple()[:2]\n",
    "    \n",
    "    df = pd.read_excel(fname, header=7, sheetname=sheetname)\n",
    "    df = df.rename(columns={'Unnamed: 0': 'Date', 'Unnamed: 1': 'Day_of_week'})\n",
    "    \n",
    "    # Drop aggregate rows/cols\n",
    "    date_rows = df.Date.str[-1].str.isdigit()\n",
    "    dregs = df.Date[~date_rows]\n",
    "    assert (dregs == 'Average Weekday Weekend'.split()).all()\n",
    "    assert (dregs == df.Date[-3:]).all()\n",
    "    del df['Total']\n",
    "        \n",
    "    # Parse and check days\n",
    "    df = df[date_rows].copy()\n",
    "    df['Date'] = pd.to_datetime(str(year) + ' ' +  df['Date'].map(str))\n",
    "    assert all(df.Date == pd.Series(get_days(year, month))), \"Unexpected date rows\"\n",
    "    \n",
    "    return cols2hrs24(df)  # , year, month\n",
    "\n",
    "\n",
    "get_days = lambda year, month: [dt.datetime(year, month, day) for day in range(1, calendar.monthrange(year, month)[1] + 1)]\n",
    "# df, year, month = read_excel('data/121-5450/2012_1.xlsx', 2)\n",
    "df = read_excel('data/121-5450/2012_1.xlsx', 2)\n",
    "# year, month"
   ]
  },
  {
   "cell_type": "code",
   "execution_count": null,
   "metadata": {
    "collapsed": false
   },
   "outputs": [],
   "source": [
    "def collect_dfs(site_loc, sheet=0, verbose=1):\n",
    "    dr = 'data/{}/*.xlsx'.format(site_loc)\n",
    "    all_dfs = []\n",
    "\n",
    "    for fname in glob(dr):\n",
    "        if verbose:\n",
    "            print(fname)\n",
    "        all_dfs.append(read_excel(fname, sheetname=sheet))\n",
    "    df = pd.concat(all_dfs).reset_index(drop=1)\n",
    "    \n",
    "    dir = dirname(dr)\n",
    "    outname = join(dir, 'all_{}.msg'.format(sheet))\n",
    "    df.to_msgpack(outname)\n",
    "    return df\n",
    "\n",
    "# site_df0 = collect_dfs('089-3572', sheet=0, verbose=0)\n",
    "# site_df1 = collect_dfs('089-3572', sheet=1, verbose=0)\n",
    "# site_df2 = collect_dfs('089-3572', sheet=2, verbose=0)"
   ]
  }
 ],
 "metadata": {
  "kernelspec": {
   "display_name": "Python 2",
   "language": "python",
   "name": "python2"
  },
  "language_info": {
   "codemirror_mode": {
    "name": "ipython",
    "version": 2
   },
   "file_extension": ".py",
   "mimetype": "text/x-python",
   "name": "python",
   "nbconvert_exporter": "python",
   "pygments_lexer": "ipython2",
   "version": "2.7.10"
  }
 },
 "nbformat": 4,
 "nbformat_minor": 0
}
