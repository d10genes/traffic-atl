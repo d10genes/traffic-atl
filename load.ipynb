{
 "cells": [
  {
   "cell_type": "code",
   "execution_count": 1,
   "metadata": {
    "collapsed": false
   },
   "outputs": [
    {
     "data": {
      "application/javascript": [
       "IPython.keyboard_manager.command_shortcuts.add_shortcut('Ctrl-k','ipython.move-selected-cell-up')\n",
       "IPython.keyboard_manager.command_shortcuts.add_shortcut('Ctrl-j','ipython.move-selected-cell-down')\n",
       "IPython.keyboard_manager.command_shortcuts.add_shortcut('Shift-m','ipython.merge-selected-cell-with-cell-after')"
      ],
      "text/plain": [
       "<IPython.core.display.Javascript object>"
      ]
     },
     "metadata": {},
     "output_type": "display_data"
    }
   ],
   "source": [
    "%%javascript\n",
    "IPython.keyboard_manager.command_shortcuts.add_shortcut('Ctrl-k','ipython.move-selected-cell-up')\n",
    "IPython.keyboard_manager.command_shortcuts.add_shortcut('Ctrl-j','ipython.move-selected-cell-down')\n",
    "IPython.keyboard_manager.command_shortcuts.add_shortcut('Shift-m','ipython.merge-selected-cell-with-cell-after')"
   ]
  },
  {
   "cell_type": "code",
   "execution_count": 2,
   "metadata": {
    "collapsed": false
   },
   "outputs": [],
   "source": [
    "from __future__ import print_function, division\n",
    "from os.path import join, exists, dirname\n",
    "import os\n",
    "import re\n",
    "import errno\n",
    "from functools import partial\n",
    "import datetime as dt\n",
    "from dateutil import rrule\n",
    "from datetime import datetime, timedelta\n",
    "from collections import Counter\n",
    "\n",
    "import requests\n",
    "from bs4 import BeautifulSoup"
   ]
  },
  {
   "cell_type": "markdown",
   "metadata": {
    "collapsed": false
   },
   "source": [
    "    s = requests.Session()\n",
    "    s.get('http://trafficserver.transmetric.com/gdot-prod/tcdb.jsp?siteid=135-6287#')\n",
    "    s.id = 43946"
   ]
  },
  {
   "cell_type": "code",
   "execution_count": 8,
   "metadata": {
    "collapsed": true
   },
   "outputs": [],
   "source": [
    "def gen_session(siteid_sess):\n",
    "    s, url = gen_session_(siteid_sess)\n",
    "    html = requests.get(url).content\n",
    "    s.id = get_siteid(html)\n",
    "    s.loc_id = siteid_sess\n",
    "    dirname = gen_name('', '', siteid_sess, dironly=1)\n",
    "    mkdirs(dirname)\n",
    "    descfile = join(dirname, 'description.txt')\n",
    "    if not exists(descfile):\n",
    "        txt = get_desc(html)\n",
    "        print('Writing {}'.format(descfile))\n",
    "        with open(descfile, 'wb') as f:\n",
    "            f.write(txt)\n",
    "    return s \n",
    "\n",
    "def gen_session_(siteid_sess):\n",
    "    s = requests.Session()\n",
    "    url = 'http://trafficserver.transmetric.com/gdot-prod/tcdb.jsp?siteid={}#'.format(siteid_sess)\n",
    "    s.get(url)\n",
    "    return s, url\n",
    "\n",
    "\n",
    "def get_desc(html):\n",
    "    tdstyle = {u'style': u'text-align: left; width: 100%; padding-left: 6px; padding-top: 0px;'}\n",
    "    soup = BeautifulSoup(html, 'html.parser')\n",
    "    td = soup.table.tr.findChild(attrs=tdstyle)\n",
    "    return td.text\n",
    "\n",
    "def xls_getter(year, month, siteid=None, session=requests):\n",
    "    u = (\"http://trafficserver.transmetric.com/gdot-prod/exportexec.jsp\"\n",
    "    \"?source=tcdb_monthxls&siteid={siteid}&year={year}&month={month}&tfVol=02725170146&tfClass=84923669106\")\n",
    "    url = u.format(year=year, month=month, siteid=siteid)\n",
    "    r = session.get(url)\n",
    "    return r    \n",
    "\n",
    "def to_excel(r, fn, dir=''):\n",
    "    with open(fn, 'wb') as f:\n",
    "        for chunk in r.iter_content():\n",
    "            f.write(chunk)\n",
    "    return fn\n",
    "\n",
    "def mkdirs(path):\n",
    "    try:\n",
    "        os.makedirs(path)\n",
    "    except OSError as exc: # Python >2.5\n",
    "        if exc.errno != errno.EEXIST or not os.path.isdir(path):\n",
    "            raise\n",
    "\n",
    "def gen_name(year, month, loc_id=None, dironly=False):\n",
    "    dir = join('data', str(loc_id))\n",
    "    if dironly:\n",
    "        return dir\n",
    "    return join(dir, '{}_{}.xlsx'.format(year, month))\n",
    "\n",
    "\n",
    "def fetch(year, month, loc_id=None, session=requests, cache=True):\n",
    "    loc_id = loc_id or session.loc_id\n",
    "    fn = gen_name(year, month, loc_id=loc_id)\n",
    "    #mkdirs(dirname(fn))\n",
    "    \n",
    "    if cache and exists(fn):\n",
    "        print('File pulled. Skipping.')\n",
    "        return fn\n",
    "    \n",
    "    r = xls_getter(year, month, siteid=session.id, session=session)\n",
    "    to_excel(r, fn)\n",
    "    return fn\n",
    "\n",
    "\n",
    "def fetchall(startdate, until, s):\n",
    "    all_months = ((d.year, d.month) for d in rrule.rrule(rrule.MONTHLY, dtstart=startdate, until=until))\n",
    "    fns = []\n",
    "    for yr, mth in all_months:\n",
    "        try:\n",
    "            print(yr, mth)\n",
    "            fn = fetch(yr, mth, session=s)\n",
    "            fns.append(fn)\n",
    "        except Exception as e:\n",
    "            raise(e)\n",
    "    return fns\n",
    "\n",
    "def get_siteid(html):\n",
    "    siteid_pat = re.compile(r\"doShowRawMonth\\('(\\d+)', \\d+, \\d+\\);\")\n",
    "    ctr = Counter(siteid_pat.findall(html))\n",
    "    return sorted(ctr.items(), key=lambda x: -x[1])[0][0]"
   ]
  },
  {
   "cell_type": "code",
   "execution_count": 6,
   "metadata": {
    "collapsed": false
   },
   "outputs": [
    {
     "name": "stdout",
     "output_type": "stream",
     "text": [
      "Writing data/121-5450/description.txt\n"
     ]
    }
   ],
   "source": [
    "# ss = gen_session('135-6287', 43946)\n",
    "# ss = gen_session('http://trafficserver.transmetric.com/gdot-prod/tcdb.jsp?siteid=135-6287#', 43946)\n",
    "# rr = gen_session('121-0124') \n",
    "s400 = gen_session('121-5450') "
   ]
  },
  {
   "cell_type": "code",
   "execution_count": 7,
   "metadata": {
    "collapsed": false
   },
   "outputs": [
    {
     "name": "stdout",
     "output_type": "stream",
     "text": [
      "2012 1\n",
      "2012 2\n",
      "2012 3\n",
      "2012 4\n",
      "2012 5\n",
      "2012 6\n",
      "2012 7\n",
      "2012 8\n",
      "2012 9\n",
      "2012 10\n",
      "2012 11\n",
      "2012 12\n",
      "2013 1\n",
      "2013 2\n",
      "2013 3\n",
      "2013 4\n",
      "2013 5\n",
      "2013 6\n",
      "2013 7\n",
      "2013 8\n",
      "2013 9\n",
      "2013 10\n",
      "2013 11\n",
      "2013 12\n",
      "2014 1\n",
      "2014 2\n",
      "2014 3\n",
      "2014 4\n",
      "2014 5\n",
      "2014 6\n",
      "2014 7\n",
      "2014 8\n",
      "2014 9\n",
      "2014 10\n",
      "2014 11\n",
      "2014 12\n",
      "2015 1\n",
      "2015 2\n",
      "2015 3\n",
      "2015 4\n",
      "2015 5\n",
      "2015 6\n",
      "2015 7\n",
      "2015 8\n"
     ]
    }
   ],
   "source": [
    "fns = fetchall(dt.date(2012, 1, 1), dt.date(2015, 8, 1), s400)"
   ]
  }
 ],
 "metadata": {
  "kernelspec": {
   "display_name": "Python 2",
   "language": "python",
   "name": "python2"
  },
  "language_info": {
   "codemirror_mode": {
    "name": "ipython",
    "version": 2
   },
   "file_extension": ".py",
   "mimetype": "text/x-python",
   "name": "python",
   "nbconvert_exporter": "python",
   "pygments_lexer": "ipython2",
   "version": "2.7.10"
  }
 },
 "nbformat": 4,
 "nbformat_minor": 0
}
