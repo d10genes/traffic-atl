{
 "cells": [
  {
   "cell_type": "code",
   "execution_count": null,
   "metadata": {
    "collapsed": false
   },
   "outputs": [],
   "source": [
    "%%javascript\n",
    "IPython.keyboard_manager.command_shortcuts.add_shortcut('Ctrl-k','ipython.move-selected-cell-up')\n",
    "IPython.keyboard_manager.command_shortcuts.add_shortcut('Ctrl-j','ipython.move-selected-cell-down')\n",
    "IPython.keyboard_manager.command_shortcuts.add_shortcut('Shift-m','ipython.merge-selected-cell-with-cell-after')"
   ]
  },
  {
   "cell_type": "code",
   "execution_count": null,
   "metadata": {
    "collapsed": false
   },
   "outputs": [],
   "source": [
    "from __future__ import print_function, division\n",
    "from os.path import join, exists, dirname\n",
    "import os\n",
    "import re\n",
    "import errno\n",
    "from functools import partial\n",
    "from glob import glob\n",
    "import datetime as dt\n",
    "from dateutil import rrule\n",
    "from datetime import datetime, timedelta\n",
    "import calendar\n",
    "from collections import Counter\n",
    "from operator import methodcaller as mc\n",
    "\n",
    "import pandas as pd\n",
    "from pandas import DataFrame, Series\n",
    "import numpy as np\n",
    "import matplotlib.pyplot as plt\n",
    "import matplotlib as mpl\n",
    "import seaborn as sns\n",
    "# import requests\n",
    "# from bs4 import BeautifulSoup\n",
    "import xlrd\n",
    "\n",
    "\n",
    "pd.options.display.notebook_repr_html = False\n",
    "pd.options.display.width = 140\n",
    "%matplotlib inline\n",
    "sns.set_palette(sns.color_palette('colorblind', 5))"
   ]
  },
  {
   "cell_type": "code",
   "execution_count": null,
   "metadata": {
    "collapsed": true
   },
   "outputs": [],
   "source": [
    "def drop_exc(df, cs):\n",
    "    if not hasattr(cs, '__iter__'):\n",
    "        cs = [cs]\n",
    "    cs = map(str, cs)\n",
    "    other_nums = [c for c in df if c.isdigit() and c not in cs]\n",
    "    return df[[c for c in df if c not in other_nums]]\n",
    "\n",
    "# drop_ex = partial(drop_exc, df=df0)\n",
    "def just_nums(df):\n",
    "    return [c for c in df if c.isdigit()]\n",
    "\n",
    "def rotate(deg=90):\n",
    "    locs, labels = plt.xticks()\n",
    "    plt.setp(labels, rotation=deg)\n",
    "#     plt.plot(x, delay)\n",
    "\n",
    "def read(site_loc, sheet=0):\n",
    "    fn = join('data', site_loc, 'all_{}.msg'.format(sheet))\n",
    "    exfile = glob(join('data', site_loc, '*.xlsx'))[0]\n",
    "    \n",
    "    xl_workbook = xlrd.open_workbook(exfile)\n",
    "    sheet_names = xl_workbook.sheet_names()\n",
    "    del xl_workbook\n",
    "\n",
    "    print('{} => {}'.format(sheet_names, sheet_names[sheet]))\n",
    "    with open(join('data', site_loc, 'description.txt')) as f:\n",
    "        print(f.read())\n",
    "        \n",
    "        df = pd.read_msgpack(fn)\n",
    "    print('Nulls: {} / {}'.format(df['2'].isnull().sum(), len(df)))\n",
    "    return df\n",
    "\n",
    "def plot_minor():\n",
    "    \"Plot minor axis: http://stackoverflow.com/a/21924612/386279\"\n",
    "    ax = plt.gca()\n",
    "    ax.get_xaxis().set_minor_locator(mpl.ticker.AutoMinorLocator())\n",
    "    ax.grid(b=True, which='major', color='w', linewidth=1.0)\n",
    "    ax.grid(b=True, which='minor', color='w', linewidth=0.5)"
   ]
  },
  {
   "cell_type": "markdown",
   "metadata": {},
   "source": [
    "# Load"
   ]
  },
  {
   "cell_type": "code",
   "execution_count": null,
   "metadata": {
    "collapsed": true
   },
   "outputs": [],
   "source": [
    "dow = [u'Mon', u'Tue', u'Wed', u'Thu', u'Fri']\n",
    "hrs = map(str, range(24))"
   ]
  },
  {
   "cell_type": "code",
   "execution_count": null,
   "metadata": {
    "collapsed": false
   },
   "outputs": [],
   "source": [
    "# loc_id = '089-3572'\n",
    "# df0 = pd.read_msgpack('data/089-3572/all_0.msg')\n",
    "# dfnor = read('135-6287', sheet=1)\n",
    "dfnor = read('121-5114', sheet=1).assign(Date=lambda df: df.Date.map(mc('date')))"
   ]
  },
  {
   "cell_type": "code",
   "execution_count": null,
   "metadata": {
    "collapsed": false
   },
   "outputs": [],
   "source": [
    "smgdays = range(27, 32)\n",
    "smg = dfnor.query('Weekday & Year == 2014 & Day_of_year == @smgdays').set_index('Day_of_week')[hrs]\n",
    "smg.T.plot(figsize=(20, 10), linewidth=4, #fontsize=20,\n",
    "           title=('The week of Carmageddon, when Atlanta collectively lost its mind'))"
   ]
  },
  {
   "cell_type": "markdown",
   "metadata": {},
   "source": [
    "### Peak hour\n",
    "I was curious to see whether the peak traffic hour evolves over the year, but sampling the first 5 weekdays in March, June and October indicate that it peaks somewhat consistently at pm throughout the year."
   ]
  },
  {
   "cell_type": "markdown",
   "metadata": {},
   "source": [
    "    def plot_peak(df, **kw):\n",
    "        df[just_nums(df)].T.plot(figsize=(10, 5), **kw)"
   ]
  },
  {
   "cell_type": "code",
   "execution_count": null,
   "metadata": {
    "collapsed": true
   },
   "outputs": [],
   "source": [
    "dfpeak = dfnor.query('Weekday & Year == 2014 & Month == [3, 6, 10]').set_index('Date').copy()\n",
    "dfpeak['Mday'] = dfpeak.Month.map(str) + dfpeak.Day_of_week\n",
    "dfpeak = dfpeak.drop_duplicates('Mday')"
   ]
  },
  {
   "cell_type": "markdown",
   "metadata": {},
   "source": [
    "dim = 1, 3\n",
    "\n",
    "[(i, j) for i in range(1, 1 + dim[0]) for j in range(1, 1 + dim[1])]"
   ]
  },
  {
   "cell_type": "code",
   "execution_count": null,
   "metadata": {
    "collapsed": false
   },
   "outputs": [],
   "source": [
    "def plotby(df, by=None, f=None, nrows=1, ncols=1):\n",
    "    \"\"\n",
    "    gb = df.groupby(by)\n",
    "    n = len(gb)\n",
    "    return [f(i, gbk, dfgb, n, nrows=nrows, ncols=ncols) for i, (gbk, dfgb) in enumerate(gb, 1)]\n",
    "\n",
    "def plot_days(i, month, dfgb, n, nrows=1, ncols=1, hrs=hrs):\n",
    "    plt.subplot(nrows, ncols, i)\n",
    "    plt.title(calendar.month_name[month])\n",
    "    dfplt_ = dfgb[hrs].T\n",
    "    for c in dfplt_:\n",
    "        plt.plot(dfplt_.index, dfplt_[c])\n",
    "    plt.legend(list(dfplt_), loc='best')\n",
    "\n",
    "plt.figure(figsize=(20, 5))\n",
    "plotby(dfpeak, by='Month', f=partial(plot_days, hrs=hrs[10:20]), nrows=1, ncols=3);"
   ]
  },
  {
   "cell_type": "markdown",
   "metadata": {
    "collapsed": true
   },
   "source": [
    "I did note, though, "
   ]
  },
  {
   "cell_type": "code",
   "execution_count": null,
   "metadata": {
    "collapsed": false
   },
   "outputs": [],
   "source": [
    "dfpeak[hrs].T.plot(figsize=(20, 5))\n",
    "plot_minor()"
   ]
  },
  {
   "cell_type": "markdown",
   "metadata": {},
   "source": [
    "## Cluster "
   ]
  },
  {
   "cell_type": "code",
   "execution_count": null,
   "metadata": {
    "collapsed": true
   },
   "outputs": [],
   "source": [
    "from sklearn.preprocessing import StandardScaler\n",
    "from sklearn.cluster import DBSCAN, SpectralClustering, KMeans, spectral_clustering, AgglomerativeClustering\n",
    "from sklearn.manifold import TSNE"
   ]
  },
  {
   "cell_type": "markdown",
   "metadata": {},
   "source": [
    "    import toolz.curried as z\n",
    "    import itertools as it"
   ]
  },
  {
   "cell_type": "code",
   "execution_count": null,
   "metadata": {
    "collapsed": true
   },
   "outputs": [],
   "source": [
    "SpectralClustering?"
   ]
  },
  {
   "cell_type": "code",
   "execution_count": null,
   "metadata": {
    "collapsed": true
   },
   "outputs": [],
   "source": [
    "Xdf_ = dfnor.dropna(axis=0, how='any', subset=hrs).copy()  #.query('Weekday')\n",
    "Xdf_['Total'] = Xdf_[hrs].sum(axis=1)\n",
    "Xdf = Xdf_[hrs]  #.query('Weekday')\n",
    "X = Xdf"
   ]
  },
  {
   "cell_type": "code",
   "execution_count": null,
   "metadata": {
    "collapsed": true
   },
   "outputs": [],
   "source": [
    "Xs = StandardScaler().fit_transform(X)"
   ]
  },
  {
   "cell_type": "code",
   "execution_count": null,
   "metadata": {
    "collapsed": false
   },
   "outputs": [],
   "source": [
    "%%time\n",
    "np.random.seed(3)\n",
    "ts = TSNE(n_components=2)\n",
    "Xt = ts.fit_transform(X)\n",
    "Xdf_['T1'], Xdf_['T2'] = zip(*Xt)"
   ]
  },
  {
   "cell_type": "markdown",
   "metadata": {},
   "source": [
    "clust_color = it.cycle([\"#9b59b6\", \"#3498db\", \"#95a5a6\", \"#e74c3c\", \"#34495e\", \"#2ecc71\"])\n",
    "clust_color = dict(zip(set(xdt), clust_color))\n",
    "ccol = map(clust_color.get, xdt)\n",
    "\n",
    "cp = dict(zip(clusts, sns.color_palette('Set2', n_colors=len(clusts))))\n"
   ]
  },
  {
   "cell_type": "code",
   "execution_count": null,
   "metadata": {
    "collapsed": false
   },
   "outputs": [],
   "source": []
  },
  {
   "cell_type": "code",
   "execution_count": null,
   "metadata": {
    "collapsed": false
   },
   "outputs": [],
   "source": [
    "import sklearn\n",
    "sklearn.__version__"
   ]
  },
  {
   "cell_type": "code",
   "execution_count": null,
   "metadata": {
    "collapsed": false
   },
   "outputs": [],
   "source": [
    "dbts = DBSCAN(eps=1.5)\n",
    "Xdf_['Tclust'] = dbts.fit_predict(Xt)\n",
    "# Xdf_['Dclusts'] = DBSCAN(eps=302).fit_predict(X)\n",
    "# Xdf_['Dclusts'] = DBSCAN(eps=302).fit_predict(X)\n",
    "\n"
   ]
  },
  {
   "cell_type": "code",
   "execution_count": null,
   "metadata": {
    "collapsed": false
   },
   "outputs": [],
   "source": [
    "np.random.seed(3)\n",
    "# Xdf_['Dclusts'] = SpectralClustering(n_clusters=4, random_state=2, eigen_solver='arpack', assign_labels='discretize').fit_predict(Xt)\n",
    "Xdf_['Dclusts'] = AgglomerativeClustering(n_clusters=4, linkage='average').fit_predict(Xt)\n",
    "# Xdf_['Dclusts'] = KMeans(n_clusters=4, random_state=5).fit_predict(Xt)\n",
    "\n",
    "# clusts = sorted(set(xdt))\n",
    "# cp = dict(zip(clusts, sns.color_palette('Set2', n_colors=len(clusts))))\n",
    "# Xdf_['Col'] = ccol = map(cp.get, xdt)\n",
    "\n",
    "Xdf_.Dclusts.value_counts(normalize=0)"
   ]
  },
  {
   "cell_type": "code",
   "execution_count": null,
   "metadata": {
    "collapsed": false
   },
   "outputs": [],
   "source": [
    "Xdf_['Clust_size'] = Xdf_.Tclust.astype(str) + ': n=' + Xdf_.groupby('Tclust').Date.transform(len).map(str)\n",
    "Xdf_['Dclust_size'] = Xdf_.Dclusts.astype(str) + ': n=' + Xdf_.groupby('Dclusts').Date.transform(len).map(str)"
   ]
  },
  {
   "cell_type": "code",
   "execution_count": null,
   "metadata": {
    "collapsed": false
   },
   "outputs": [],
   "source": [
    "sns.set(font_scale=1.5)\n",
    "# with sns.color_palette('Set2', Xdf_.Tclust.nunique()):\n",
    "with sns.color_palette('colorblind', Xdf_.Dclust_size.nunique()):\n",
    "    sns.lmplot(\"T1\", \"T2\", data=Xdf_, hue='Dclust_size', fit_reg=False, size=8, aspect=2)\n",
    "plt.xlim(-20, 22)\n",
    "yo, yi = plt.ylim()"
   ]
  },
  {
   "cell_type": "code",
   "execution_count": null,
   "metadata": {
    "collapsed": true
   },
   "outputs": [],
   "source": [
    "del Xdf_['Tclust']"
   ]
  },
  {
   "cell_type": "code",
   "execution_count": null,
   "metadata": {
    "collapsed": false
   },
   "outputs": [],
   "source": [
    "sns.lmplot(\"T1\", \"T2\", data=Xdf_.query('Dclusts == -1'), fit_reg=False, size=4, aspect=2)\n",
    "plt.xlim(-20, 22)\n",
    "plt.ylim(yo, yi);"
   ]
  },
  {
   "cell_type": "code",
   "execution_count": null,
   "metadata": {
    "collapsed": false
   },
   "outputs": [],
   "source": [
    "sns.palplot(sns.color_palette('Set2', 10))"
   ]
  },
  {
   "cell_type": "markdown",
   "metadata": {},
   "source": [
    "It looks like DBSCAN found 4 main clusters (0-3), and identified several smaller ones on the outskirts of these (4-8). \n"
   ]
  },
  {
   "cell_type": "markdown",
   "metadata": {},
   "source": [
    "Looking at the day of week distribution of the clusters should give a good first pass at dissecting what distinguishes them:"
   ]
  },
  {
   "cell_type": "code",
   "execution_count": null,
   "metadata": {
    "collapsed": false
   },
   "outputs": [],
   "source": [
    "Xdf_.groupby(['Tclust', 'Day_of_week']).size().unstack().fillna(' ')"
   ]
  },
  {
   "cell_type": "markdown",
   "metadata": {},
   "source": [
    "Clusters 1 and 0 look like they account pretty well for Saturday and Sunday, respectively. "
   ]
  },
  {
   "cell_type": "code",
   "execution_count": null,
   "metadata": {
    "collapsed": true
   },
   "outputs": [],
   "source": [
    "for c, clustdf in Xdf_.set_index('Date').groupby('Tclust'):\n",
    "    1"
   ]
  },
  {
   "cell_type": "code",
   "execution_count": null,
   "metadata": {
    "collapsed": false
   },
   "outputs": [],
   "source": [
    "Xdf_.groupby(['Tclust', 'Day_of_week']).size().unstack().fillna(0).apply(np.log)"
   ]
  },
  {
   "cell_type": "code",
   "execution_count": null,
   "metadata": {
    "collapsed": false
   },
   "outputs": [],
   "source": [
    "sns.clustermap(Xdf_.groupby(['Clust_size', 'Day_of_week']).size().unstack().fillna(0), annot=True, linewidths=.5)"
   ]
  },
  {
   "cell_type": "code",
   "execution_count": null,
   "metadata": {
    "collapsed": false
   },
   "outputs": [],
   "source": [
    "clustdf"
   ]
  },
  {
   "cell_type": "code",
   "execution_count": null,
   "metadata": {
    "collapsed": true
   },
   "outputs": [],
   "source": [
    "plot_days??"
   ]
  },
  {
   "cell_type": "markdown",
   "metadata": {},
   "source": []
  },
  {
   "cell_type": "code",
   "execution_count": null,
   "metadata": {
    "collapsed": true
   },
   "outputs": [],
   "source": [
    "def plot_days2(i, k, dfgb, n, nrows=1, ncols=1, hrs=hrs):\n",
    "    print('nrows: {},ncols: {},i: {}'.format(nrows, ncols, i))\n",
    "    plt.subplot(nrows, ncols, i)\n",
    "    plt.title(k)\n",
    "    dfplt_ = dfgb[hrs][:10].T\n",
    "    for c in dfplt_:\n",
    "        plt.plot(dfplt_.index, dfplt_[c])\n",
    "    plt.legend(list(dfplt_), loc='best')"
   ]
  },
  {
   "cell_type": "code",
   "execution_count": null,
   "metadata": {
    "collapsed": false
   },
   "outputs": [],
   "source": []
  },
  {
   "cell_type": "code",
   "execution_count": null,
   "metadata": {
    "collapsed": true
   },
   "outputs": [],
   "source": []
  },
  {
   "cell_type": "code",
   "execution_count": null,
   "metadata": {
    "collapsed": true
   },
   "outputs": [],
   "source": [
    "Xdf_.set_index('Date')"
   ]
  },
  {
   "cell_type": "code",
   "execution_count": null,
   "metadata": {
    "collapsed": false
   },
   "outputs": [],
   "source": [
    "plt.figure(figsize=(20, 20))\n",
    "\n",
    "plotby(Xdf_.set_index('Date'), by='Clust_size', f=plot_days2, nrows=4, ncols=3);"
   ]
  },
  {
   "cell_type": "code",
   "execution_count": null,
   "metadata": {
    "collapsed": true
   },
   "outputs": [],
   "source": [
    "def plot_months(i, month, dfgb, n, nrows=1, ncols=1):\n",
    "    plt.subplot(nrows, ncols, i)\n",
    "    plt.title(calendar.month_name[month])\n",
    "    dfplt_ = dfgb[hrs].T[10:20]\n",
    "    for c in dfplt_:\n",
    "        plt.plot(dfplt_.index, dfplt_[c])\n",
    "    plt.legend(list(dfplt_), loc='best')\n",
    "\n",
    "plt.figure(figsize=(20, 5))\n",
    "plotby(dfpeak, by='Month', f=plot_months, nrows=1, ncols=3);"
   ]
  },
  {
   "cell_type": "code",
   "execution_count": null,
   "metadata": {
    "collapsed": false
   },
   "outputs": [],
   "source": [
    "# plt.subplot(nrows, ncols, i)\n",
    "# plt.title(calendar.month_name[month])\n",
    "dfgb = clustdf\n",
    "\n",
    "dfplt_ = dfgb[hrs].T #[10:20]\n",
    "for c in dfplt_:\n",
    "    plt.plot(dfplt_.index, dfplt_[c])\n",
    "plt.legend(list(dfplt_), loc='best')"
   ]
  },
  {
   "cell_type": "code",
   "execution_count": null,
   "metadata": {
    "collapsed": false
   },
   "outputs": [],
   "source": [
    "clustdf"
   ]
  },
  {
   "cell_type": "code",
   "execution_count": null,
   "metadata": {
    "collapsed": false
   },
   "outputs": [],
   "source": [
    "dd = clustdf[hrs].T\n",
    "dd.plot()"
   ]
  },
  {
   "cell_type": "code",
   "execution_count": null,
   "metadata": {
    "collapsed": true
   },
   "outputs": [],
   "source": [
    "Xmeta = Xdf_.drop(just_nums(Xdf_), axis=1)"
   ]
  },
  {
   "cell_type": "code",
   "execution_count": null,
   "metadata": {
    "collapsed": false
   },
   "outputs": [],
   "source": [
    "Xmeta.query('Tclust == -1')[:10]"
   ]
  },
  {
   "cell_type": "code",
   "execution_count": null,
   "metadata": {
    "collapsed": false
   },
   "outputs": [],
   "source": [
    "Xmeta.query('Tclust == 5')[:10]"
   ]
  },
  {
   "cell_type": "code",
   "execution_count": null,
   "metadata": {
    "collapsed": true
   },
   "outputs": [],
   "source": [
    ".query('Tclust == -1')[:10]"
   ]
  },
  {
   "cell_type": "code",
   "execution_count": null,
   "metadata": {
    "collapsed": true
   },
   "outputs": [],
   "source": [
    "sns."
   ]
  },
  {
   "cell_type": "code",
   "execution_count": null,
   "metadata": {
    "collapsed": false
   },
   "outputs": [],
   "source": [
    "Xdf_[:2]"
   ]
  },
  {
   "cell_type": "code",
   "execution_count": null,
   "metadata": {
    "collapsed": false
   },
   "outputs": [],
   "source": [
    "Xt"
   ]
  },
  {
   "cell_type": "code",
   "execution_count": null,
   "metadata": {
    "collapsed": true
   },
   "outputs": [],
   "source": [
    "ccol"
   ]
  },
  {
   "cell_type": "code",
   "execution_count": null,
   "metadata": {
    "collapsed": false
   },
   "outputs": [],
   "source": [
    "plt.figure(figsize=(16, 10))\n",
    "plt.scatter(*zip(*Xt), alpha=.75, color=ccol)\n",
    "plt.legend(clusts)"
   ]
  },
  {
   "cell_type": "code",
   "execution_count": null,
   "metadata": {
    "collapsed": false
   },
   "outputs": [],
   "source": [
    "Xdf_.query('T1 < -10 & T2 < -5').Day_of_week.value_counts(normalize=0)"
   ]
  },
  {
   "cell_type": "code",
   "execution_count": null,
   "metadata": {
    "collapsed": true
   },
   "outputs": [],
   "source": [
    "Xdf_.query('T1 < -10 & T2 < -5') #.Day_of_week.value_counts(normalize=0)"
   ]
  },
  {
   "cell_type": "code",
   "execution_count": null,
   "metadata": {
    "collapsed": true
   },
   "outputs": [],
   "source": [
    "DataFrame(Xs)[:30].T.plot()"
   ]
  },
  {
   "cell_type": "code",
   "execution_count": null,
   "metadata": {
    "collapsed": true
   },
   "outputs": [],
   "source": []
  },
  {
   "cell_type": "code",
   "execution_count": null,
   "metadata": {
    "collapsed": false
   },
   "outputs": [],
   "source": [
    "ss[ss >= 0].value_counts(normalize=0).tolist()"
   ]
  },
  {
   "cell_type": "code",
   "execution_count": null,
   "metadata": {
    "collapsed": false
   },
   "outputs": [],
   "source": [
    "def try_dbparam_(eps, X):\n",
    "    db = DBSCAN(eps=eps)\n",
    "    ks = db.fit_predict(X)\n",
    "    ss = Series(ks)\n",
    "    return ss[ss >= 0].nunique(), (ss < 0).sum(), (ss[ss >= 0].value_counts().tolist() + [0])[0]\n",
    "\n",
    "def try_dbparam(X, grids):\n",
    "    params = try_dbparam.params = {e: try_dbparam_(e, X) for e in grids}\n",
    "    sp = Series(params)\n",
    "    nz, z, biggest = zip(*sp)\n",
    "    mkseries = partial(Series, index=sp.index)\n",
    "    return Series(nz, index=sp.index), Series(z, index=sp.index), mkseries(biggest)"
   ]
  },
  {
   "cell_type": "code",
   "execution_count": null,
   "metadata": {
    "collapsed": true
   },
   "outputs": [],
   "source": [
    "nz, z = zip(*sp)\n",
    "nz, z"
   ]
  },
  {
   "cell_type": "code",
   "execution_count": null,
   "metadata": {
    "collapsed": true
   },
   "outputs": [],
   "source": [
    "sp = Series(try_dbparam.params)\n",
    "sp"
   ]
  },
  {
   "cell_type": "code",
   "execution_count": null,
   "metadata": {
    "collapsed": true
   },
   "outputs": [],
   "source": [
    "try_dbparam.params"
   ]
  },
  {
   "cell_type": "code",
   "execution_count": null,
   "metadata": {
    "collapsed": false
   },
   "outputs": [],
   "source": [
    "db = DBSCAN(eps=150)\n",
    "ks = db.fit_predict(X)\n",
    "ss = Series(ks)"
   ]
  },
  {
   "cell_type": "code",
   "execution_count": null,
   "metadata": {
    "collapsed": false
   },
   "outputs": [],
   "source": [
    "ss.value_counts(normalize=0)"
   ]
  },
  {
   "cell_type": "code",
   "execution_count": null,
   "metadata": {
    "collapsed": true
   },
   "outputs": [],
   "source": [
    "%time sparam, zparam, big = try_dbparam(135, 500, X)"
   ]
  },
  {
   "cell_type": "code",
   "execution_count": null,
   "metadata": {
    "collapsed": false
   },
   "outputs": [],
   "source": [
    "1.00000000e-001"
   ]
  },
  {
   "cell_type": "code",
   "execution_count": null,
   "metadata": {
    "collapsed": false
   },
   "outputs": [],
   "source": [
    "np.logspace(-1, 2, 50)"
   ]
  },
  {
   "cell_type": "code",
   "execution_count": null,
   "metadata": {
    "collapsed": false
   },
   "outputs": [],
   "source": [
    "zparams"
   ]
  },
  {
   "cell_type": "code",
   "execution_count": null,
   "metadata": {
    "collapsed": false
   },
   "outputs": [],
   "source": [
    "# %time sparams, zparams, bigs = try_dbparam(Xs, np.logspace(0, 1, 50))\n",
    "%time sparams, zparams, bigs = try_dbparam(Xs, np.linspace(1, 2, 100))"
   ]
  },
  {
   "cell_type": "code",
   "execution_count": null,
   "metadata": {
    "collapsed": false
   },
   "outputs": [],
   "source": [
    "np.log10(3)"
   ]
  },
  {
   "cell_type": "code",
   "execution_count": null,
   "metadata": {
    "collapsed": false
   },
   "outputs": [],
   "source": [
    "n1 = 1\n",
    "n = 620\n",
    "plt.figure(figsize=(16, 10))\n",
    "sparams[:n].plot()\n",
    "zparams[:n].plot()\n",
    "bigs[:n].plot()\n",
    "plot_minor()\n",
    "plt.legend(['Nclusters', 'None', 'Big'])"
   ]
  },
  {
   "cell_type": "code",
   "execution_count": null,
   "metadata": {
    "collapsed": true
   },
   "outputs": [],
   "source": [
    "params"
   ]
  },
  {
   "cell_type": "code",
   "execution_count": null,
   "metadata": {
    "collapsed": true
   },
   "outputs": [],
   "source": [
    "Series(params)"
   ]
  },
  {
   "cell_type": "code",
   "execution_count": null,
   "metadata": {
    "collapsed": true
   },
   "outputs": [],
   "source": []
  },
  {
   "cell_type": "code",
   "execution_count": null,
   "metadata": {
    "collapsed": true
   },
   "outputs": [],
   "source": [
    "plt.figure(figsize=(16, 10))\n",
    "sparams = Series(params)\n",
    "sparams[:350].plot()\n",
    "plot_minor()"
   ]
  },
  {
   "cell_type": "code",
   "execution_count": null,
   "metadata": {
    "collapsed": true
   },
   "outputs": [],
   "source": [
    "sparams"
   ]
  },
  {
   "cell_type": "code",
   "execution_count": null,
   "metadata": {
    "collapsed": false
   },
   "outputs": [],
   "source": [
    "db = DBSCAN(eps=300)\n",
    "ks = db.fit_predict(X)\n",
    "\n",
    "Series(ks).value_counts(normalize=0)"
   ]
  },
  {
   "cell_type": "code",
   "execution_count": null,
   "metadata": {
    "collapsed": false
   },
   "outputs": [],
   "source": [
    "Xdf_[:2]"
   ]
  },
  {
   "cell_type": "code",
   "execution_count": null,
   "metadata": {
    "collapsed": false
   },
   "outputs": [],
   "source": [
    "Xs"
   ]
  },
  {
   "cell_type": "code",
   "execution_count": null,
   "metadata": {
    "collapsed": true
   },
   "outputs": [],
   "source": [
    "Data"
   ]
  },
  {
   "cell_type": "code",
   "execution_count": null,
   "metadata": {
    "collapsed": false
   },
   "outputs": [],
   "source": [
    "dfnor[:2]"
   ]
  },
  {
   "cell_type": "code",
   "execution_count": null,
   "metadata": {
    "collapsed": false
   },
   "outputs": [],
   "source": [
    "StandardScaler?"
   ]
  },
  {
   "cell_type": "code",
   "execution_count": null,
   "metadata": {
    "collapsed": false
   },
   "outputs": [],
   "source": [
    "ls"
   ]
  },
  {
   "cell_type": "code",
   "execution_count": null,
   "metadata": {
    "collapsed": true
   },
   "outputs": [],
   "source": [
    "dfpeak.groupby('Month').plot()"
   ]
  },
  {
   "cell_type": "code",
   "execution_count": null,
   "metadata": {
    "collapsed": false
   },
   "outputs": [],
   "source": [
    "g = sns.FacetGrid(dfpeak[just_nums(dfpeak)] + ['Month'], col='Month')\n",
    "g.map(plt.plot, figsize=(10, 5))"
   ]
  },
  {
   "cell_type": "code",
   "execution_count": null,
   "metadata": {
    "collapsed": false
   },
   "outputs": [],
   "source": [
    "plot_peak(dfpeak)"
   ]
  },
  {
   "cell_type": "code",
   "execution_count": null,
   "metadata": {
    "collapsed": true
   },
   "outputs": [],
   "source": [
    "dfpeak"
   ]
  },
  {
   "cell_type": "code",
   "execution_count": null,
   "metadata": {
    "collapsed": false
   },
   "outputs": [],
   "source": [
    "df2 = dfnor[:].query('Weekday & Year == 2014 & Month > 2').set_index('Date').copy()\n",
    "hrs2 = df2[just_nums(df2)]\n",
    "hrs2[:5].T.plot(figsize=(20, 10))\n",
    "plot_minor()"
   ]
  },
  {
   "cell_type": "code",
   "execution_count": null,
   "metadata": {
    "collapsed": true
   },
   "outputs": [],
   "source": [
    "# plt.figure(figsize=(16, 10))\n",
    "\n",
    "# hrs.iloc[range(21, 34)].T.plot(figsize=(20, 10))\n",
    "hrs2[:5].T.plot(figsize=(20, 10))\n",
    "\n",
    "ax = plt.gca()\n",
    "ax.get_xaxis().set_minor_locator(mpl.ticker.AutoMinorLocator())\n",
    "\n",
    "ax.grid(b=True, which='major', color='w', linewidth=1.0)\n",
    "ax.grid(b=True, which='minor', color='w', linewidth=0.5)"
   ]
  },
  {
   "cell_type": "code",
   "execution_count": null,
   "metadata": {
    "collapsed": true
   },
   "outputs": [],
   "source": []
  },
  {
   "cell_type": "code",
   "execution_count": null,
   "metadata": {
    "collapsed": true
   },
   "outputs": [],
   "source": []
  },
  {
   "cell_type": "code",
   "execution_count": null,
   "metadata": {
    "collapsed": false
   },
   "outputs": [],
   "source": [
    "df6 = dfnor[:].query('Weekday & Year == 2014 & Month == 6').set_index('Date').copy()\n",
    "hrs6 = df6[just_nums(df6)]\n",
    "hrs6[:5].T.plot(figsize=(10, 5))\n",
    "\n",
    "plot_minor()"
   ]
  },
  {
   "cell_type": "code",
   "execution_count": null,
   "metadata": {
    "collapsed": false
   },
   "outputs": [],
   "source": [
    "sns.axes_style()"
   ]
  },
  {
   "cell_type": "code",
   "execution_count": null,
   "metadata": {
    "collapsed": true
   },
   "outputs": [],
   "source": [
    "weirds = [0, 20]"
   ]
  },
  {
   "cell_type": "code",
   "execution_count": null,
   "metadata": {
    "collapsed": true
   },
   "outputs": [],
   "source": []
  },
  {
   "cell_type": "code",
   "execution_count": null,
   "metadata": {
    "collapsed": false
   },
   "outputs": [],
   "source": []
  },
  {
   "cell_type": "code",
   "execution_count": null,
   "metadata": {
    "collapsed": false
   },
   "outputs": [],
   "source": [
    "hrs.iloc[weirds + range(16,20)].T.plot(figsize=(20, 10))"
   ]
  },
  {
   "cell_type": "code",
   "execution_count": null,
   "metadata": {
    "collapsed": false
   },
   "outputs": [],
   "source": [
    "df = drop_exc(df0[:], 7).query('Weekday').set_index('Date').copy()\n",
    "df['Week_avg'] = df.groupby('Week_of_year')['7'].transform('mean')\n",
    "df['Week_diff'] = df['7'] - df.Week_avg\n",
    "df[:2]"
   ]
  },
  {
   "cell_type": "code",
   "execution_count": null,
   "metadata": {
    "collapsed": false
   },
   "outputs": [],
   "source": [
    "plt.figure(figsize=(16, 10))\n",
    "df.Week_diff.plot()\n",
    "df['7'].plot()"
   ]
  },
  {
   "cell_type": "code",
   "execution_count": null,
   "metadata": {
    "collapsed": false
   },
   "outputs": [],
   "source": [
    "# pc3 = np.percentile(df['7'], 3)\n",
    "df[df['7'] < np.percentile(df['7'], 3)].reset_index().set_index(['Year', 'Day_of_year'])"
   ]
  },
  {
   "cell_type": "code",
   "execution_count": null,
   "metadata": {
    "collapsed": false
   },
   "outputs": [],
   "source": [
    "from pandas.tseries.offsets import CustomBusinessDay\n",
    "from pandas.tseries.holiday import USFederalHolidayCalendar\n",
    "bday_us = CustomBusinessDay(calendar=USFederalHolidayCalendar())"
   ]
  },
  {
   "cell_type": "code",
   "execution_count": null,
   "metadata": {
    "collapsed": true
   },
   "outputs": [],
   "source": [
    "bday_us.holidays"
   ]
  },
  {
   "cell_type": "code",
   "execution_count": null,
   "metadata": {
    "collapsed": true
   },
   "outputs": [],
   "source": [
    "bday_us.holidays"
   ]
  },
  {
   "cell_type": "code",
   "execution_count": null,
   "metadata": {
    "collapsed": false
   },
   "outputs": [],
   "source": [
    "df['7'].plot()"
   ]
  },
  {
   "cell_type": "code",
   "execution_count": null,
   "metadata": {
    "collapsed": false
   },
   "outputs": [],
   "source": [
    "df.groupby('Day_of_week')[['Week_diff', '7']].agg(['mean', 'median']).ix[dow]"
   ]
  },
  {
   "cell_type": "code",
   "execution_count": null,
   "metadata": {
    "collapsed": false
   },
   "outputs": [],
   "source": [
    "df.Day_of_week[:5].tolist()"
   ]
  },
  {
   "cell_type": "code",
   "execution_count": null,
   "metadata": {
    "collapsed": false
   },
   "outputs": [],
   "source": [
    "sns"
   ]
  },
  {
   "cell_type": "code",
   "execution_count": null,
   "metadata": {
    "collapsed": false
   },
   "outputs": [],
   "source": [
    "plt.figure(figsize=(16, 10))\n",
    "sns.violinplot(x='Day_of_week', y='Week_diff', data=df, )"
   ]
  },
  {
   "cell_type": "code",
   "execution_count": null,
   "metadata": {
    "collapsed": true
   },
   "outputs": [],
   "source": [
    "df.groupby('Week_of_year')['7'].transform('mean')"
   ]
  },
  {
   "cell_type": "code",
   "execution_count": null,
   "metadata": {
    "collapsed": false
   },
   "outputs": [],
   "source": [
    "# df0.query('Weekday').groupby(['Year', 'Day_of_year'])['7'].mean().plot()  # Day_of_week\n",
    "plt.figure(figsize=(16, 10))\n",
    "drop_exc(df0[:], 7).query('Weekday').groupby(['Date'])['7'].mean().plot()\n",
    "rotate(70)"
   ]
  },
  {
   "cell_type": "code",
   "execution_count": null,
   "metadata": {
    "collapsed": false
   },
   "outputs": [],
   "source": [
    "!cat data/135-6287/description.txt"
   ]
  },
  {
   "cell_type": "code",
   "execution_count": null,
   "metadata": {
    "collapsed": true
   },
   "outputs": [],
   "source": [
    "drop_exc(df0.query('Weekday'), 7)[-100:]"
   ]
  },
  {
   "cell_type": "markdown",
   "metadata": {},
   "source": [
    "- peak hour"
   ]
  },
  {
   "cell_type": "code",
   "execution_count": null,
   "metadata": {
    "collapsed": true
   },
   "outputs": [],
   "source": [
    "\n",
    "\n",
    "\n",
    "\n",
    "\n",
    "\n",
    "\n",
    "\n",
    "\n",
    "\n",
    "\n",
    "\n",
    "\n",
    "\n",
    "\n",
    "\n",
    "\n",
    "\n",
    "\n",
    "\n",
    "\n",
    "\n",
    "\n",
    "\n",
    "\n"
   ]
  },
  {
   "cell_type": "code",
   "execution_count": null,
   "metadata": {
    "collapsed": true
   },
   "outputs": [],
   "source": []
  },
  {
   "cell_type": "code",
   "execution_count": null,
   "metadata": {
    "collapsed": true
   },
   "outputs": [],
   "source": []
  },
  {
   "cell_type": "code",
   "execution_count": null,
   "metadata": {
    "collapsed": true
   },
   "outputs": [],
   "source": []
  },
  {
   "cell_type": "code",
   "execution_count": null,
   "metadata": {
    "collapsed": true
   },
   "outputs": [],
   "source": []
  },
  {
   "cell_type": "code",
   "execution_count": null,
   "metadata": {
    "collapsed": true
   },
   "outputs": [],
   "source": []
  },
  {
   "cell_type": "code",
   "execution_count": null,
   "metadata": {
    "collapsed": true
   },
   "outputs": [],
   "source": [
    "plt.plota"
   ]
  },
  {
   "cell_type": "code",
   "execution_count": null,
   "metadata": {
    "collapsed": true
   },
   "outputs": [],
   "source": [
    "sheetnames = (u'Combined', u'Dir E', u'Dir W')"
   ]
  },
  {
   "cell_type": "code",
   "execution_count": null,
   "metadata": {
    "collapsed": false
   },
   "outputs": [],
   "source": [
    "def check_sheetnames(dir):\n",
    "    dirglob = glob.glob(join(dir, '*.xlsx'))\n",
    "    snames = {tuple(xlrd.open_workbook(fn).sheet_names()) for fn in dirglob}\n",
    "    assert snames == {sheetnames}, \"Different sheet names: {}\".format(snames)"
   ]
  },
  {
   "cell_type": "code",
   "execution_count": null,
   "metadata": {
    "collapsed": false
   },
   "outputs": [],
   "source": [
    "# check_sheetnames('data/121-5450')"
   ]
  },
  {
   "cell_type": "code",
   "execution_count": null,
   "metadata": {
    "collapsed": true
   },
   "outputs": [],
   "source": [
    "def load_month(yr, mth):\n",
    "    "
   ]
  }
 ],
 "metadata": {
  "kernelspec": {
   "display_name": "Python 2",
   "language": "python",
   "name": "python2"
  },
  "language_info": {
   "codemirror_mode": {
    "name": "ipython",
    "version": 2
   },
   "file_extension": ".py",
   "mimetype": "text/x-python",
   "name": "python",
   "nbconvert_exporter": "python",
   "pygments_lexer": "ipython2",
   "version": "2.7.10"
  }
 },
 "nbformat": 4,
 "nbformat_minor": 0
}
