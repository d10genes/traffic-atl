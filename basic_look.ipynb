{
 "cells": [
  {
   "cell_type": "code",
   "execution_count": null,
   "metadata": {
    "collapsed": false
   },
   "outputs": [],
   "source": [
    "%%javascript\n",
    "IPython.keyboard_manager.command_shortcuts.add_shortcut('Ctrl-k','ipython.move-selected-cell-up')\n",
    "IPython.keyboard_manager.command_shortcuts.add_shortcut('Ctrl-j','ipython.move-selected-cell-down')\n",
    "IPython.keyboard_manager.command_shortcuts.add_shortcut('Shift-m','ipython.merge-selected-cell-with-cell-after')"
   ]
  },
  {
   "cell_type": "code",
   "execution_count": null,
   "metadata": {
    "collapsed": false
   },
   "outputs": [],
   "source": [
    "from __future__ import print_function, division\n",
    "from os.path import join, exists, dirname\n",
    "import os\n",
    "import re\n",
    "import errno\n",
    "from functools import partial\n",
    "from glob import glob\n",
    "import datetime as dt\n",
    "from dateutil import rrule\n",
    "from datetime import datetime, timedelta\n",
    "import calendar\n",
    "from collections import Counter\n",
    "from itertools import count\n",
    "from operator import methodcaller as mc\n",
    "\n",
    "import pandas as pd\n",
    "from pandas import DataFrame, Series\n",
    "import numpy as np\n",
    "import matplotlib.pyplot as plt\n",
    "import matplotlib as mpl\n",
    "import seaborn as sns\n",
    "# import requests\n",
    "# from bs4 import BeautifulSoup\n",
    "import toolz.curried as z\n",
    "import xlrd\n",
    "\n",
    "\n",
    "pd.options.display.notebook_repr_html = False\n",
    "pd.options.display.width = 140\n",
    "%matplotlib inline\n",
    "sns.set_palette(sns.color_palette('colorblind', 5))"
   ]
  },
  {
   "cell_type": "code",
   "execution_count": null,
   "metadata": {
    "collapsed": true
   },
   "outputs": [],
   "source": [
    "def drop_exc(df, cs):\n",
    "    if not hasattr(cs, '__iter__'):\n",
    "        cs = [cs]\n",
    "    cs = map(str, cs)\n",
    "    other_nums = [c for c in df if c.isdigit() and c not in cs]\n",
    "    return df[[c for c in df if c not in other_nums]]\n",
    "\n",
    "# drop_ex = partial(drop_exc, df=df0)\n",
    "def just_nums(df):\n",
    "    return [c for c in df if c.isdigit()]\n",
    "\n",
    "def rotate(deg=90):\n",
    "    locs, labels = plt.xticks()\n",
    "    plt.setp(labels, rotation=deg)\n",
    "#     plt.plot(x, delay)\n",
    "\n",
    "def read(site_loc, sheet=0):\n",
    "    fn = join('data', site_loc, 'all_{}.msg'.format(sheet))\n",
    "    exfile = glob(join('data', site_loc, '*.xlsx'))[0]\n",
    "    \n",
    "    xl_workbook = xlrd.open_workbook(exfile)\n",
    "    sheet_names = xl_workbook.sheet_names()\n",
    "    del xl_workbook\n",
    "\n",
    "    print('{} => {}'.format(sheet_names, sheet_names[sheet]))\n",
    "    with open(join('data', site_loc, 'description.txt')) as f:\n",
    "        print(f.read())\n",
    "        \n",
    "        df = pd.read_msgpack(fn)\n",
    "    print('Nulls: {} / {}'.format(df['2'].isnull().sum(), len(df)))\n",
    "    return df\n",
    "\n",
    "def plot_minor():\n",
    "    \"Plot minor axis: http://stackoverflow.com/a/21924612/386279\"\n",
    "    ax = plt.gca()\n",
    "    ax.get_xaxis().set_minor_locator(mpl.ticker.AutoMinorLocator())\n",
    "    ax.grid(b=True, which='major', color='w', linewidth=1.0)\n",
    "    ax.grid(b=True, which='minor', color='w', linewidth=0.5)"
   ]
  },
  {
   "cell_type": "markdown",
   "metadata": {},
   "source": [
    "# Load"
   ]
  },
  {
   "cell_type": "code",
   "execution_count": null,
   "metadata": {
    "collapsed": true
   },
   "outputs": [],
   "source": [
    "dow = ['Mon', 'Tue', 'Wed', 'Thu', 'Fri']\n",
    "adow = dow + ['Sat', 'Sun']\n",
    "hrs = map(str, range(24))"
   ]
  },
  {
   "cell_type": "code",
   "execution_count": null,
   "metadata": {
    "collapsed": false
   },
   "outputs": [],
   "source": [
    "# loc_id = '089-3572'\n",
    "# df0 = pd.read_msgpack('data/089-3572/all_0.msg')\n",
    "# dfnor = read('135-6287', sheet=1)\n",
    "dfnor = read('121-5114', sheet=1).assign(Date=lambda df: df.Date.map(mc('date')))"
   ]
  },
  {
   "cell_type": "code",
   "execution_count": null,
   "metadata": {
    "collapsed": false
   },
   "outputs": [],
   "source": [
    "smgdays = range(27, 32)\n",
    "smg = dfnor.query('Weekday & Year == 2014 & Day_of_year == @smgdays').set_index('Day_of_week')[hrs]\n",
    "smg.T.plot(figsize=(20, 10), linewidth=4, #fontsize=20,\n",
    "           title=('The week of Carmageddon, when Atlanta collectively lost its mind'))"
   ]
  },
  {
   "cell_type": "markdown",
   "metadata": {},
   "source": [
    "### Peak hour\n",
    "I was curious to see whether the peak traffic hour evolves over the year, but sampling the first 5 weekdays in March, June and October indicate that it peaks somewhat consistently on the evening throughout the year at 8am, noon and 5pm."
   ]
  },
  {
   "cell_type": "code",
   "execution_count": null,
   "metadata": {
    "collapsed": true
   },
   "outputs": [],
   "source": [
    "dfwkday = dfnor.query('Weekday').set_index('Date').copy()\n",
    "dfpeak = dfwkday.query('Year == 2014 & Month == [3, 6, 10]').copy()\n",
    "dfpeak['Mday'] = dfpeak.Month.map(str) + dfpeak.Day_of_week\n",
    "dfpeak = dfpeak.drop_duplicates('Mday')"
   ]
  },
  {
   "cell_type": "code",
   "execution_count": null,
   "metadata": {
    "collapsed": false
   },
   "outputs": [],
   "source": [
    "def plotby(df, by=None, f=None, nrows=1, ncols=1):\n",
    "    \"\"\n",
    "    gb = df.groupby(by)\n",
    "    n = len(gb)\n",
    "    return [f(i, gbk, dfgb, n, nrows=nrows, ncols=ncols) for i, (gbk, dfgb) in enumerate(gb, 1)]\n",
    "\n",
    "def plot_days(i, month, dfgb, n, nrows=1, ncols=1, hrs=hrs):\n",
    "    plt.subplot(nrows, ncols, i)\n",
    "    plt.title(calendar.month_name[month])\n",
    "    dfplt_ = dfgb[hrs].T\n",
    "    for c in dfplt_:\n",
    "        plt.plot(dfplt_.index, dfplt_[c])\n",
    "    plt.legend(list(dfplt_), loc='best')\n",
    "\n",
    "plt.figure(figsize=(20, 5))\n",
    "plotby(dfpeak, by='Month', f=partial(plot_days, hrs=hrs[5:20]), nrows=1, ncols=3);"
   ]
  },
  {
   "cell_type": "markdown",
   "metadata": {},
   "source": [
    "And, perhaps not surprisingly, there appears to be a lot less variation from 1-4pm"
   ]
  },
  {
   "cell_type": "code",
   "execution_count": null,
   "metadata": {
    "collapsed": false
   },
   "outputs": [],
   "source": [
    "dfpeak[hrs].T.plot(figsize=(20, 5))\n",
    "plot_minor()"
   ]
  },
  {
   "cell_type": "markdown",
   "metadata": {},
   "source": [
    "Looking at how the peak hours change throughout the year produced a lot of spiky behavior, which taking the moving average helped with:"
   ]
  },
  {
   "cell_type": "code",
   "execution_count": null,
   "metadata": {
    "collapsed": false
   },
   "outputs": [],
   "source": [
    "plt.figure(figsize=(20, 6))\n",
    "plot_peak_smoothed = lambda x: pd.rolling_mean(x, 5).plot()\n",
    "get_peak = lambda x: x.T.idxmax().dropna().map(int)\n",
    "\n",
    "am = get_peak(dfwkday[['6', '7', '8', '9', '10']])\n",
    "lunch = get_peak(dfwkday[['10', '11', '12', '13', '14']])\n",
    "pm = get_peak(dfwkday[['14', '15', '16', '17', '18', '19']])\n",
    "\n",
    "plot_peak_smoothed(am)\n",
    "plot_peak_smoothed(lunch)\n",
    "plot_peak_smoothed(pm)\n",
    "\n",
    "year_line = lambda yr: plt.plot([dt.date(yr, 1, 1), dt.date(yr, 1, 1)], [8, 18], '-.', linewidth=.7, c=(0,0,0))\n",
    "map(year_line, [2013, 2014, 2015])\n",
    "\n",
    "rotate(75)\n",
    "plt.xlim()\n",
    "plot_minor()"
   ]
  },
  {
   "cell_type": "markdown",
   "metadata": {},
   "source": [
    "The intuition that peak hour doesn't vary much looks largely correct. They look pretty constant throughout the year, though there appears to be a discernible dip in the peak afternoon time (and corresponding rise in morning and lunch times) around holidays such as Christmas, New Years, Independence day and Labor Day. It looks like the summer months also have a slightly later peak in the morning, perhaps because the school schedule allows for a later departure. There's a lot more variation, though, so it's hard say with a lot of precision.\n",
    "\n",
    "These patterns are perhaps more clear when all the years are overlayed on each other:"
   ]
  },
  {
   "cell_type": "code",
   "execution_count": null,
   "metadata": {
    "collapsed": false
   },
   "outputs": [],
   "source": [
    "@z.curry\n",
    "def new_year(newyear, d):\n",
    "    \"Given date object, return copy with same date, but year `newyear`\"\n",
    "    (_, m, day) = d.timetuple()[:3]\n",
    "    return dt.date(newyear, m, day)\n",
    "\n",
    "\n",
    "plt.figure(figsize=(16, 6))\n",
    "for yr, yeardf_ in dfwkday.groupby('Year'):\n",
    "    yeardf = yeardf_.copy()\n",
    "    yeardf.index = yeardf.index.map(new_year(2000))  # Changing all years to 2000 for easier overlay\n",
    "    \n",
    "    am = get_peak(yeardf[['6', '7', '8', '9', '10']])\n",
    "    lunch = get_peak(yeardf[['10', '11', '12', '13', '14']])\n",
    "    pm = get_peak(yeardf[['14', '15', '16', '17', '18', '19']])\n",
    "    \n",
    "    plot_peak_smoothed(am)\n",
    "    plot_peak_smoothed(lunch)\n",
    "    plot_peak_smoothed(pm)\n",
    "rotate(75)"
   ]
  },
  {
   "cell_type": "markdown",
   "metadata": {},
   "source": [
    "## Dimensionality reduction and clustering"
   ]
  },
  {
   "cell_type": "markdown",
   "metadata": {},
   "source": [
    "I was wanting to see how much the traffic volume for each day cluster, using the hourly volume as features. I had a hard time finding obvious clusters on the raw data, and took a detour and tried to visualize the daily volume. PCA didn't reveal anything that stood out to me, but running [TSNE](http://lvdmaaten.github.io/tsne/) revealed some interesting patterns"
   ]
  },
  {
   "cell_type": "code",
   "execution_count": null,
   "metadata": {
    "collapsed": true
   },
   "outputs": [],
   "source": [
    "Xdf_ = dfnor.dropna(axis=0, how='any', subset=hrs).copy()  #.query('Weekday')\n",
    "Xdf_['Total'] = Xdf_[hrs].sum(axis=1)\n",
    "Xdf = Xdf_[hrs]  #.query('Weekday')\n",
    "X = Xdf"
   ]
  },
  {
   "cell_type": "code",
   "execution_count": null,
   "metadata": {
    "collapsed": true
   },
   "outputs": [],
   "source": [
    "# Xs = StandardScaler().fit_transform(X)"
   ]
  },
  {
   "cell_type": "code",
   "execution_count": null,
   "metadata": {
    "collapsed": true
   },
   "outputs": [],
   "source": [
    "from sklearn.preprocessing import StandardScaler\n",
    "from sklearn.cluster import DBSCAN, SpectralClustering, KMeans, spectral_clustering, AgglomerativeClustering\n",
    "from sklearn.decomposition import PCA\n",
    "from sklearn.manifold import TSNE"
   ]
  },
  {
   "cell_type": "code",
   "execution_count": null,
   "metadata": {
    "collapsed": false
   },
   "outputs": [],
   "source": [
    "%%time\n",
    "np.random.seed(3)\n",
    "ts = TSNE(n_components=2)\n",
    "Xt = ts.fit_transform(X)\n",
    "Xdf_['T1'], Xdf_['T2'] = zip(*Xt)"
   ]
  },
  {
   "cell_type": "markdown",
   "metadata": {},
   "source": [
    "While much slower to run than PCA, TSNE is a popular way to reduce high-dimensional data into 2 or 3 dimensions for informative visualization. With our dataset, it does a good job of cramming the 24 features (traffic volume for each hour of the day) down into just 2 while preserving important characteristics of the data.\n",
    "\n",
    "Here we see how well it spreads the data out, and seems to partition it into 4 natural clusters, compared to the lumpier PCA results which basically just leave us with 2 main clusters:"
   ]
  },
  {
   "cell_type": "code",
   "execution_count": null,
   "metadata": {
    "collapsed": false
   },
   "outputs": [],
   "source": [
    "xpca = DataFrame(PCA(n_components=2).fit_transform(X), columns=['P1', 'P2'])\n",
    "\n",
    "plt.figure(figsize=(16, 5))\n",
    "plt.subplot(1,2,1)\n",
    "plt.title('TSNE')\n",
    "plt.scatter(Xdf_.T1, Xdf_.T2, alpha=.5, c=\"#3498db\")\n",
    "\n",
    "plt.subplot(1,2,2)\n",
    "plt.title('PCA')\n",
    "plt.scatter(xpca.P1, xpca.P2, alpha=.5, c=\"#9b59b6\")\n",
    "# Xdf_[[\"T1\", \"T2\"]].plot(kind='scatter', x='T1', y='T2') "
   ]
  },
  {
   "cell_type": "markdown",
   "metadata": {},
   "source": [
    "clust_color = it.cycle([\"#9b59b6\", \"#3498db\", \"#95a5a6\", \"#e74c3c\", \"#34495e\", \"#2ecc71\"])\n",
    "clust_color = dict(zip(set(xdt), clust_color))\n",
    "ccol = map(clust_color.get, xdt)\n",
    "\n",
    "cp = dict(zip(clusts, sns.color_palette('Set2', n_colors=len(clusts))))\n",
    "\n",
    "\n",
    "    # np.random.seed(3)\n",
    "    # Xdf_['Dclusts'] = SpectralClustering(n_clusters=4, random_state=2,\n",
    "    #             eigen_solver='arpack', assign_labels='discretize').fit_predict(Xt)\n",
    "    # Xdf_['Dclusts'] = KMeans(n_clusters=4, random_state=5).fit_predict(Xt)\n",
    "\n",
    "    # clusts = sorted(set(xdt))\n",
    "    # cp = dict(zip(clusts, sns.color_palette('Set2', n_colors=len(clusts))))\n",
    "    # Xdf_['Col'] = ccol = map(cp.get, xdt)"
   ]
  },
  {
   "cell_type": "markdown",
   "metadata": {},
   "source": [
    "After not having much success clustering the raw data, the 2 TSNE dimensions looked like better candidates for clustering. Hierarchical clustering seemed to give pretty good results without much tuning:"
   ]
  },
  {
   "cell_type": "code",
   "execution_count": null,
   "metadata": {
    "collapsed": false
   },
   "outputs": [],
   "source": [
    "Xdf_['Tclust'] = AgglomerativeClustering(n_clusters=4, linkage='average').fit_predict(Xt)\n",
    "\n",
    "# Label each cluster by how many samples are in it\n",
    "Xdf_['Clust_size'] = Xdf_.Tclust.astype(str) + ': n=' + Xdf_.groupby('Tclust').Date.transform(len).map(str)"
   ]
  },
  {
   "cell_type": "code",
   "execution_count": null,
   "metadata": {
    "collapsed": false
   },
   "outputs": [],
   "source": [
    "sns.set(font_scale=1.5)\n",
    "with sns.color_palette('colorblind', Xdf_.Clust_size.nunique()):\n",
    "    sns.lmplot(\"T1\", \"T2\", data=Xdf_, hue='Clust_size', fit_reg=False, size=8, aspect=2)\n",
    "plt.xlim(-20, 22)\n",
    "yo, yi = plt.ylim()"
   ]
  },
  {
   "cell_type": "markdown",
   "metadata": {
    "collapsed": false
   },
   "source": [
    "    sns.lmplot(\"T1\", \"T2\", data=Xdf_.query('Clust_size == -1'), fit_reg=False, size=4, aspect=2)\n",
    "    plt.xlim(-20, 22)\n",
    "    plt.ylim(yo, yi);\n",
    "\n",
    "    sns.palplot(sns.color_palette('Set2', 10))\n",
    "\n",
    "    sns.palplot(sns.color_palette('Set2', 10))\n",
    "\n",
    "    Xdf_.groupby(['Month', 'Day_of_week', 'Tclust']).size().unstack().fillna(' ').T #.ix[adow]"
   ]
  },
  {
   "cell_type": "markdown",
   "metadata": {},
   "source": [
    "It looks like AgglomerativeClustering was able to find the 4 main clusters pretty well; looking at the day of week distribution of the clusters gave a good first pass at dissecting what distinguishes them:"
   ]
  },
  {
   "cell_type": "code",
   "execution_count": null,
   "metadata": {
    "collapsed": false
   },
   "outputs": [],
   "source": [
    "Xdf_.groupby(['Tclust', 'Day_of_week']).size().unstack().fillna(' ')[adow]"
   ]
  },
  {
   "cell_type": "markdown",
   "metadata": {},
   "source": [
    "The clusters quite neatly decompose into day-of-the-week categories: Saturday (#3), Sunday (#1), Friday (#2) and the rest of the weekdays (#0). It could be useful to relabel according to the most common day in the cluster, and examine the outliers"
   ]
  },
  {
   "cell_type": "code",
   "execution_count": null,
   "metadata": {
    "collapsed": false
   },
   "outputs": [],
   "source": [
    "Xdf_['Day_label'] = Xdf_.Tclust.map({0: 'Week', 1: 'Sun', 2: 'Fri', 3: 'Sat'})\n",
    "with sns.color_palette('colorblind', Xdf_.Day_label.nunique()):\n",
    "    sns.lmplot(\"T1\", \"T2\", data=Xdf_, hue='Day_label', fit_reg=False, size=8, aspect=2)\n",
    "plt.xlim(-20, 22);"
   ]
  },
  {
   "cell_type": "markdown",
   "metadata": {},
   "source": [
    "Of the possible pairings for the four main clusters, the Saturday and Sunday clusters look like they may be hardest to disambiguate. While they can be separated pretty easily on the first dimension, there's a huge amount of overlap in the second. While I don't know of any way to directly interpret TSNE results, it looks like T2 represents something predictive of weekend-ness.\n",
    "\n",
    "\n",
    "Zooming in on the large weekday cluster, labelling with the *actual* day of the week shows an interesting density shift corresponding to the order of the day: the lower left is dominated by Mondays, which transitions to Tuesdays, followed by Wednesdays and ending with Fridays."
   ]
  },
  {
   "cell_type": "code",
   "execution_count": null,
   "metadata": {
    "collapsed": false
   },
   "outputs": [],
   "source": [
    "C0 = (Xdf_.query('Tclust == 0 & Day_of_week != \"Fri\"')\n",
    "      .assign(Daynum=lambda x: x.Day_of_week.map(dict(zip(dow, count()))))\n",
    "      .sort('Daynum'))\n",
    "with sns.color_palette('Paired', C0.Day_of_week.nunique()):\n",
    "    sns.lmplot(\"T1\", \"T2\", data=C0, hue='Day_of_week', fit_reg=False,\n",
    "               size=8, aspect=2, hue_order=dow[:-1], scatter_kws=dict(s=70, alpha=.9))\n",
    "plt.xlim(-15, 15);"
   ]
  },
  {
   "cell_type": "markdown",
   "metadata": {},
   "source": [
    "This ordered shift is more clear in a real density plot, particularly in the *T2* dimension"
   ]
  },
  {
   "cell_type": "code",
   "execution_count": null,
   "metadata": {
    "collapsed": false
   },
   "outputs": [],
   "source": [
    "with sns.color_palette('Paired', C0.Day_of_week.nunique()):\n",
    "    g = sns.JointGrid(\"T1\", \"T2\", C0, size=10)\n",
    "    for day, daydf in C0.groupby('Day_of_week', sort=False):\n",
    "        sns.kdeplot(daydf[\"T1\"], ax=g.ax_marg_x, legend=False)\n",
    "        sns.kdeplot(daydf[\"T2\"], ax=g.ax_marg_y, vertical=True, legend=False)\n",
    "        g.ax_joint.plot(daydf.T1, daydf.T2, \"o\", ms=5)\n",
    "    plt.legend(dow)"
   ]
  },
  {
   "cell_type": "markdown",
   "metadata": {},
   "source": [
    "    sns.pairplot(vars=[\"T1\", \"T2\"], data=C0, hue='Day_of_week', hue_order=dow[:-1], size=4, aspect=2, plot_kws=dict(s=70, alpha=.6))"
   ]
  },
  {
   "cell_type": "markdown",
   "metadata": {},
   "source": []
  },
  {
   "cell_type": "code",
   "execution_count": null,
   "metadata": {
    "collapsed": true
   },
   "outputs": [],
   "source": [
    "for c, clustdf in Xdf_.set_index('Date').groupby('Tclust'):\n",
    "    1"
   ]
  },
  {
   "cell_type": "code",
   "execution_count": null,
   "metadata": {
    "collapsed": false
   },
   "outputs": [],
   "source": [
    "Xdf_.groupby(['Tclust', 'Day_of_week']).size().unstack().fillna(0).apply(np.log)"
   ]
  },
  {
   "cell_type": "code",
   "execution_count": null,
   "metadata": {
    "collapsed": false
   },
   "outputs": [],
   "source": [
    "sns.clustermap(Xdf_.groupby(['Clust_size', 'Day_of_week']).size().unstack().fillna(0), annot=True, linewidths=.5)"
   ]
  },
  {
   "cell_type": "code",
   "execution_count": null,
   "metadata": {
    "collapsed": false
   },
   "outputs": [],
   "source": [
    "clustdf"
   ]
  },
  {
   "cell_type": "code",
   "execution_count": null,
   "metadata": {
    "collapsed": true
   },
   "outputs": [],
   "source": [
    "plot_days??"
   ]
  },
  {
   "cell_type": "markdown",
   "metadata": {},
   "source": []
  },
  {
   "cell_type": "code",
   "execution_count": null,
   "metadata": {
    "collapsed": true
   },
   "outputs": [],
   "source": [
    "def plot_days2(i, k, dfgb, n, nrows=1, ncols=1, hrs=hrs):\n",
    "    print('nrows: {},ncols: {},i: {}'.format(nrows, ncols, i))\n",
    "    plt.subplot(nrows, ncols, i)\n",
    "    plt.title(k)\n",
    "    dfplt_ = dfgb[hrs][:10].T\n",
    "    for c in dfplt_:\n",
    "        plt.plot(dfplt_.index, dfplt_[c])\n",
    "    plt.legend(list(dfplt_), loc='best')"
   ]
  },
  {
   "cell_type": "code",
   "execution_count": null,
   "metadata": {
    "collapsed": false
   },
   "outputs": [],
   "source": []
  },
  {
   "cell_type": "code",
   "execution_count": null,
   "metadata": {
    "collapsed": true
   },
   "outputs": [],
   "source": []
  },
  {
   "cell_type": "code",
   "execution_count": null,
   "metadata": {
    "collapsed": true
   },
   "outputs": [],
   "source": [
    "Xdf_.set_index('Date')"
   ]
  },
  {
   "cell_type": "code",
   "execution_count": null,
   "metadata": {
    "collapsed": false
   },
   "outputs": [],
   "source": [
    "plt.figure(figsize=(20, 20))\n",
    "\n",
    "plotby(Xdf_.set_index('Date'), by='Clust_size', f=plot_days2, nrows=4, ncols=3);"
   ]
  },
  {
   "cell_type": "code",
   "execution_count": null,
   "metadata": {
    "collapsed": true
   },
   "outputs": [],
   "source": [
    "def plot_months(i, month, dfgb, n, nrows=1, ncols=1):\n",
    "    plt.subplot(nrows, ncols, i)\n",
    "    plt.title(calendar.month_name[month])\n",
    "    dfplt_ = dfgb[hrs].T[10:20]\n",
    "    for c in dfplt_:\n",
    "        plt.plot(dfplt_.index, dfplt_[c])\n",
    "    plt.legend(list(dfplt_), loc='best')\n",
    "\n",
    "plt.figure(figsize=(20, 5))\n",
    "plotby(dfpeak, by='Month', f=plot_months, nrows=1, ncols=3);"
   ]
  },
  {
   "cell_type": "code",
   "execution_count": null,
   "metadata": {
    "collapsed": false
   },
   "outputs": [],
   "source": [
    "# plt.subplot(nrows, ncols, i)\n",
    "# plt.title(calendar.month_name[month])\n",
    "dfgb = clustdf\n",
    "\n",
    "dfplt_ = dfgb[hrs].T #[10:20]\n",
    "for c in dfplt_:\n",
    "    plt.plot(dfplt_.index, dfplt_[c])\n",
    "plt.legend(list(dfplt_), loc='best')"
   ]
  },
  {
   "cell_type": "code",
   "execution_count": null,
   "metadata": {
    "collapsed": false
   },
   "outputs": [],
   "source": [
    "clustdf"
   ]
  },
  {
   "cell_type": "code",
   "execution_count": null,
   "metadata": {
    "collapsed": false
   },
   "outputs": [],
   "source": [
    "dd = clustdf[hrs].T\n",
    "dd.plot()"
   ]
  },
  {
   "cell_type": "code",
   "execution_count": null,
   "metadata": {
    "collapsed": true
   },
   "outputs": [],
   "source": [
    "Xmeta = Xdf_.drop(just_nums(Xdf_), axis=1)"
   ]
  },
  {
   "cell_type": "code",
   "execution_count": null,
   "metadata": {
    "collapsed": false
   },
   "outputs": [],
   "source": [
    "Xmeta.query('Tclust == -1')[:10]"
   ]
  },
  {
   "cell_type": "code",
   "execution_count": null,
   "metadata": {
    "collapsed": false
   },
   "outputs": [],
   "source": [
    "Xmeta.query('Tclust == 5')[:10]"
   ]
  },
  {
   "cell_type": "code",
   "execution_count": null,
   "metadata": {
    "collapsed": true
   },
   "outputs": [],
   "source": [
    ".query('Tclust == -1')[:10]"
   ]
  },
  {
   "cell_type": "code",
   "execution_count": null,
   "metadata": {
    "collapsed": true
   },
   "outputs": [],
   "source": [
    "sns."
   ]
  },
  {
   "cell_type": "code",
   "execution_count": null,
   "metadata": {
    "collapsed": false
   },
   "outputs": [],
   "source": [
    "Xdf_[:2]"
   ]
  },
  {
   "cell_type": "code",
   "execution_count": null,
   "metadata": {
    "collapsed": false
   },
   "outputs": [],
   "source": [
    "Xt"
   ]
  },
  {
   "cell_type": "code",
   "execution_count": null,
   "metadata": {
    "collapsed": true
   },
   "outputs": [],
   "source": [
    "ccol"
   ]
  },
  {
   "cell_type": "code",
   "execution_count": null,
   "metadata": {
    "collapsed": false
   },
   "outputs": [],
   "source": [
    "plt.figure(figsize=(16, 10))\n",
    "plt.scatter(*zip(*Xt), alpha=.75, color=ccol)\n",
    "plt.legend(clusts)"
   ]
  },
  {
   "cell_type": "code",
   "execution_count": null,
   "metadata": {
    "collapsed": false
   },
   "outputs": [],
   "source": [
    "Xdf_.query('T1 < -10 & T2 < -5').Day_of_week.value_counts(normalize=0)"
   ]
  },
  {
   "cell_type": "code",
   "execution_count": null,
   "metadata": {
    "collapsed": true
   },
   "outputs": [],
   "source": [
    "Xdf_.query('T1 < -10 & T2 < -5') #.Day_of_week.value_counts(normalize=0)"
   ]
  },
  {
   "cell_type": "code",
   "execution_count": null,
   "metadata": {
    "collapsed": true
   },
   "outputs": [],
   "source": [
    "DataFrame(Xs)[:30].T.plot()"
   ]
  },
  {
   "cell_type": "code",
   "execution_count": null,
   "metadata": {
    "collapsed": true
   },
   "outputs": [],
   "source": []
  },
  {
   "cell_type": "code",
   "execution_count": null,
   "metadata": {
    "collapsed": false
   },
   "outputs": [],
   "source": [
    "ss[ss >= 0].value_counts(normalize=0).tolist()"
   ]
  },
  {
   "cell_type": "code",
   "execution_count": null,
   "metadata": {
    "collapsed": false
   },
   "outputs": [],
   "source": [
    "def try_dbparam_(eps, X):\n",
    "    db = DBSCAN(eps=eps)\n",
    "    ks = db.fit_predict(X)\n",
    "    ss = Series(ks)\n",
    "    return ss[ss >= 0].nunique(), (ss < 0).sum(), (ss[ss >= 0].value_counts().tolist() + [0])[0]\n",
    "\n",
    "def try_dbparam(X, grids):\n",
    "    params = try_dbparam.params = {e: try_dbparam_(e, X) for e in grids}\n",
    "    sp = Series(params)\n",
    "    nz, z, biggest = zip(*sp)\n",
    "    mkseries = partial(Series, index=sp.index)\n",
    "    return Series(nz, index=sp.index), Series(z, index=sp.index), mkseries(biggest)"
   ]
  },
  {
   "cell_type": "code",
   "execution_count": null,
   "metadata": {
    "collapsed": true
   },
   "outputs": [],
   "source": [
    "nz, z = zip(*sp)\n",
    "nz, z"
   ]
  },
  {
   "cell_type": "code",
   "execution_count": null,
   "metadata": {
    "collapsed": true
   },
   "outputs": [],
   "source": [
    "sp = Series(try_dbparam.params)\n",
    "sp"
   ]
  },
  {
   "cell_type": "code",
   "execution_count": null,
   "metadata": {
    "collapsed": true
   },
   "outputs": [],
   "source": [
    "try_dbparam.params"
   ]
  },
  {
   "cell_type": "code",
   "execution_count": null,
   "metadata": {
    "collapsed": false
   },
   "outputs": [],
   "source": [
    "db = DBSCAN(eps=150)\n",
    "ks = db.fit_predict(X)\n",
    "ss = Series(ks)"
   ]
  },
  {
   "cell_type": "code",
   "execution_count": null,
   "metadata": {
    "collapsed": false
   },
   "outputs": [],
   "source": [
    "ss.value_counts(normalize=0)"
   ]
  },
  {
   "cell_type": "code",
   "execution_count": null,
   "metadata": {
    "collapsed": true
   },
   "outputs": [],
   "source": [
    "%time sparam, zparam, big = try_dbparam(135, 500, X)"
   ]
  },
  {
   "cell_type": "code",
   "execution_count": null,
   "metadata": {
    "collapsed": false
   },
   "outputs": [],
   "source": [
    "1.00000000e-001"
   ]
  },
  {
   "cell_type": "code",
   "execution_count": null,
   "metadata": {
    "collapsed": false
   },
   "outputs": [],
   "source": [
    "np.logspace(-1, 2, 50)"
   ]
  },
  {
   "cell_type": "code",
   "execution_count": null,
   "metadata": {
    "collapsed": false
   },
   "outputs": [],
   "source": [
    "zparams"
   ]
  },
  {
   "cell_type": "code",
   "execution_count": null,
   "metadata": {
    "collapsed": false
   },
   "outputs": [],
   "source": [
    "# %time sparams, zparams, bigs = try_dbparam(Xs, np.logspace(0, 1, 50))\n",
    "%time sparams, zparams, bigs = try_dbparam(Xs, np.linspace(1, 2, 100))"
   ]
  },
  {
   "cell_type": "code",
   "execution_count": null,
   "metadata": {
    "collapsed": false
   },
   "outputs": [],
   "source": [
    "np.log10(3)"
   ]
  },
  {
   "cell_type": "code",
   "execution_count": null,
   "metadata": {
    "collapsed": false
   },
   "outputs": [],
   "source": [
    "n1 = 1\n",
    "n = 620\n",
    "plt.figure(figsize=(16, 10))\n",
    "sparams[:n].plot()\n",
    "zparams[:n].plot()\n",
    "bigs[:n].plot()\n",
    "plot_minor()\n",
    "plt.legend(['Nclusters', 'None', 'Big'])"
   ]
  },
  {
   "cell_type": "code",
   "execution_count": null,
   "metadata": {
    "collapsed": true
   },
   "outputs": [],
   "source": [
    "params"
   ]
  },
  {
   "cell_type": "code",
   "execution_count": null,
   "metadata": {
    "collapsed": true
   },
   "outputs": [],
   "source": [
    "Series(params)"
   ]
  },
  {
   "cell_type": "code",
   "execution_count": null,
   "metadata": {
    "collapsed": true
   },
   "outputs": [],
   "source": []
  },
  {
   "cell_type": "code",
   "execution_count": null,
   "metadata": {
    "collapsed": true
   },
   "outputs": [],
   "source": [
    "plt.figure(figsize=(16, 10))\n",
    "sparams = Series(params)\n",
    "sparams[:350].plot()\n",
    "plot_minor()"
   ]
  },
  {
   "cell_type": "code",
   "execution_count": null,
   "metadata": {
    "collapsed": true
   },
   "outputs": [],
   "source": [
    "sparams"
   ]
  },
  {
   "cell_type": "code",
   "execution_count": null,
   "metadata": {
    "collapsed": false
   },
   "outputs": [],
   "source": [
    "db = DBSCAN(eps=300)\n",
    "ks = db.fit_predict(X)\n",
    "\n",
    "Series(ks).value_counts(normalize=0)"
   ]
  },
  {
   "cell_type": "code",
   "execution_count": null,
   "metadata": {
    "collapsed": false
   },
   "outputs": [],
   "source": [
    "Xdf_[:2]"
   ]
  },
  {
   "cell_type": "code",
   "execution_count": null,
   "metadata": {
    "collapsed": false
   },
   "outputs": [],
   "source": [
    "Xs"
   ]
  },
  {
   "cell_type": "code",
   "execution_count": null,
   "metadata": {
    "collapsed": true
   },
   "outputs": [],
   "source": [
    "Data"
   ]
  },
  {
   "cell_type": "code",
   "execution_count": null,
   "metadata": {
    "collapsed": false
   },
   "outputs": [],
   "source": [
    "dfnor[:2]"
   ]
  },
  {
   "cell_type": "code",
   "execution_count": null,
   "metadata": {
    "collapsed": false
   },
   "outputs": [],
   "source": [
    "StandardScaler?"
   ]
  },
  {
   "cell_type": "code",
   "execution_count": null,
   "metadata": {
    "collapsed": false
   },
   "outputs": [],
   "source": [
    "ls"
   ]
  },
  {
   "cell_type": "code",
   "execution_count": null,
   "metadata": {
    "collapsed": true
   },
   "outputs": [],
   "source": [
    "dfpeak.groupby('Month').plot()"
   ]
  },
  {
   "cell_type": "code",
   "execution_count": null,
   "metadata": {
    "collapsed": false
   },
   "outputs": [],
   "source": [
    "g = sns.FacetGrid(dfpeak[just_nums(dfpeak)] + ['Month'], col='Month')\n",
    "g.map(plt.plot, figsize=(10, 5))"
   ]
  },
  {
   "cell_type": "code",
   "execution_count": null,
   "metadata": {
    "collapsed": false
   },
   "outputs": [],
   "source": [
    "plot_peak(dfpeak)"
   ]
  },
  {
   "cell_type": "code",
   "execution_count": null,
   "metadata": {
    "collapsed": true
   },
   "outputs": [],
   "source": [
    "dfpeak"
   ]
  },
  {
   "cell_type": "code",
   "execution_count": null,
   "metadata": {
    "collapsed": false
   },
   "outputs": [],
   "source": [
    "df2 = dfnor[:].query('Weekday & Year == 2014 & Month > 2').set_index('Date').copy()\n",
    "hrs2 = df2[just_nums(df2)]\n",
    "hrs2[:5].T.plot(figsize=(20, 10))\n",
    "plot_minor()"
   ]
  },
  {
   "cell_type": "code",
   "execution_count": null,
   "metadata": {
    "collapsed": true
   },
   "outputs": [],
   "source": [
    "# plt.figure(figsize=(16, 10))\n",
    "\n",
    "# hrs.iloc[range(21, 34)].T.plot(figsize=(20, 10))\n",
    "hrs2[:5].T.plot(figsize=(20, 10))\n",
    "\n",
    "ax = plt.gca()\n",
    "ax.get_xaxis().set_minor_locator(mpl.ticker.AutoMinorLocator())\n",
    "\n",
    "ax.grid(b=True, which='major', color='w', linewidth=1.0)\n",
    "ax.grid(b=True, which='minor', color='w', linewidth=0.5)"
   ]
  },
  {
   "cell_type": "code",
   "execution_count": null,
   "metadata": {
    "collapsed": true
   },
   "outputs": [],
   "source": []
  },
  {
   "cell_type": "code",
   "execution_count": null,
   "metadata": {
    "collapsed": true
   },
   "outputs": [],
   "source": []
  },
  {
   "cell_type": "code",
   "execution_count": null,
   "metadata": {
    "collapsed": false
   },
   "outputs": [],
   "source": [
    "df6 = dfnor[:].query('Weekday & Year == 2014 & Month == 6').set_index('Date').copy()\n",
    "hrs6 = df6[just_nums(df6)]\n",
    "hrs6[:5].T.plot(figsize=(10, 5))\n",
    "\n",
    "plot_minor()"
   ]
  },
  {
   "cell_type": "code",
   "execution_count": null,
   "metadata": {
    "collapsed": false
   },
   "outputs": [],
   "source": [
    "sns.axes_style()"
   ]
  },
  {
   "cell_type": "code",
   "execution_count": null,
   "metadata": {
    "collapsed": true
   },
   "outputs": [],
   "source": [
    "weirds = [0, 20]"
   ]
  },
  {
   "cell_type": "code",
   "execution_count": null,
   "metadata": {
    "collapsed": true
   },
   "outputs": [],
   "source": []
  },
  {
   "cell_type": "code",
   "execution_count": null,
   "metadata": {
    "collapsed": false
   },
   "outputs": [],
   "source": []
  },
  {
   "cell_type": "code",
   "execution_count": null,
   "metadata": {
    "collapsed": false
   },
   "outputs": [],
   "source": [
    "hrs.iloc[weirds + range(16,20)].T.plot(figsize=(20, 10))"
   ]
  },
  {
   "cell_type": "code",
   "execution_count": null,
   "metadata": {
    "collapsed": false
   },
   "outputs": [],
   "source": [
    "df = drop_exc(df0[:], 7).query('Weekday').set_index('Date').copy()\n",
    "df['Week_avg'] = df.groupby('Week_of_year')['7'].transform('mean')\n",
    "df['Week_diff'] = df['7'] - df.Week_avg\n",
    "df[:2]"
   ]
  },
  {
   "cell_type": "code",
   "execution_count": null,
   "metadata": {
    "collapsed": false
   },
   "outputs": [],
   "source": [
    "plt.figure(figsize=(16, 10))\n",
    "df.Week_diff.plot()\n",
    "df['7'].plot()"
   ]
  },
  {
   "cell_type": "code",
   "execution_count": null,
   "metadata": {
    "collapsed": false
   },
   "outputs": [],
   "source": [
    "# pc3 = np.percentile(df['7'], 3)\n",
    "df[df['7'] < np.percentile(df['7'], 3)].reset_index().set_index(['Year', 'Day_of_year'])"
   ]
  },
  {
   "cell_type": "code",
   "execution_count": null,
   "metadata": {
    "collapsed": false
   },
   "outputs": [],
   "source": [
    "from pandas.tseries.offsets import CustomBusinessDay\n",
    "from pandas.tseries.holiday import USFederalHolidayCalendar\n",
    "bday_us = CustomBusinessDay(calendar=USFederalHolidayCalendar())"
   ]
  },
  {
   "cell_type": "code",
   "execution_count": null,
   "metadata": {
    "collapsed": true
   },
   "outputs": [],
   "source": [
    "bday_us.holidays"
   ]
  },
  {
   "cell_type": "code",
   "execution_count": null,
   "metadata": {
    "collapsed": true
   },
   "outputs": [],
   "source": [
    "bday_us.holidays"
   ]
  },
  {
   "cell_type": "code",
   "execution_count": null,
   "metadata": {
    "collapsed": false
   },
   "outputs": [],
   "source": [
    "df['7'].plot()"
   ]
  },
  {
   "cell_type": "code",
   "execution_count": null,
   "metadata": {
    "collapsed": false
   },
   "outputs": [],
   "source": [
    "df.groupby('Day_of_week')[['Week_diff', '7']].agg(['mean', 'median']).ix[dow]"
   ]
  },
  {
   "cell_type": "code",
   "execution_count": null,
   "metadata": {
    "collapsed": false
   },
   "outputs": [],
   "source": [
    "df.Day_of_week[:5].tolist()"
   ]
  },
  {
   "cell_type": "code",
   "execution_count": null,
   "metadata": {
    "collapsed": false
   },
   "outputs": [],
   "source": [
    "sns"
   ]
  },
  {
   "cell_type": "code",
   "execution_count": null,
   "metadata": {
    "collapsed": false
   },
   "outputs": [],
   "source": [
    "plt.figure(figsize=(16, 10))\n",
    "sns.violinplot(x='Day_of_week', y='Week_diff', data=df, )"
   ]
  },
  {
   "cell_type": "code",
   "execution_count": null,
   "metadata": {
    "collapsed": true
   },
   "outputs": [],
   "source": [
    "df.groupby('Week_of_year')['7'].transform('mean')"
   ]
  },
  {
   "cell_type": "code",
   "execution_count": null,
   "metadata": {
    "collapsed": false
   },
   "outputs": [],
   "source": [
    "# df0.query('Weekday').groupby(['Year', 'Day_of_year'])['7'].mean().plot()  # Day_of_week\n",
    "plt.figure(figsize=(16, 10))\n",
    "drop_exc(df0[:], 7).query('Weekday').groupby(['Date'])['7'].mean().plot()\n",
    "rotate(70)"
   ]
  },
  {
   "cell_type": "code",
   "execution_count": null,
   "metadata": {
    "collapsed": false
   },
   "outputs": [],
   "source": [
    "!cat data/135-6287/description.txt"
   ]
  },
  {
   "cell_type": "code",
   "execution_count": null,
   "metadata": {
    "collapsed": true
   },
   "outputs": [],
   "source": [
    "drop_exc(df0.query('Weekday'), 7)[-100:]"
   ]
  },
  {
   "cell_type": "markdown",
   "metadata": {},
   "source": [
    "- peak hour"
   ]
  },
  {
   "cell_type": "code",
   "execution_count": null,
   "metadata": {
    "collapsed": true
   },
   "outputs": [],
   "source": [
    "\n",
    "\n",
    "\n",
    "\n",
    "\n",
    "\n",
    "\n",
    "\n",
    "\n",
    "\n",
    "\n",
    "\n",
    "\n",
    "\n",
    "\n",
    "\n",
    "\n",
    "\n",
    "\n",
    "\n",
    "\n",
    "\n",
    "\n",
    "\n",
    "\n"
   ]
  },
  {
   "cell_type": "code",
   "execution_count": null,
   "metadata": {
    "collapsed": true
   },
   "outputs": [],
   "source": []
  },
  {
   "cell_type": "code",
   "execution_count": null,
   "metadata": {
    "collapsed": true
   },
   "outputs": [],
   "source": []
  },
  {
   "cell_type": "code",
   "execution_count": null,
   "metadata": {
    "collapsed": true
   },
   "outputs": [],
   "source": []
  },
  {
   "cell_type": "code",
   "execution_count": null,
   "metadata": {
    "collapsed": true
   },
   "outputs": [],
   "source": []
  },
  {
   "cell_type": "code",
   "execution_count": null,
   "metadata": {
    "collapsed": true
   },
   "outputs": [],
   "source": []
  },
  {
   "cell_type": "code",
   "execution_count": null,
   "metadata": {
    "collapsed": true
   },
   "outputs": [],
   "source": [
    "plt.plota"
   ]
  },
  {
   "cell_type": "code",
   "execution_count": null,
   "metadata": {
    "collapsed": true
   },
   "outputs": [],
   "source": [
    "sheetnames = (u'Combined', u'Dir E', u'Dir W')"
   ]
  },
  {
   "cell_type": "code",
   "execution_count": null,
   "metadata": {
    "collapsed": false
   },
   "outputs": [],
   "source": [
    "def check_sheetnames(dir):\n",
    "    dirglob = glob.glob(join(dir, '*.xlsx'))\n",
    "    snames = {tuple(xlrd.open_workbook(fn).sheet_names()) for fn in dirglob}\n",
    "    assert snames == {sheetnames}, \"Different sheet names: {}\".format(snames)"
   ]
  },
  {
   "cell_type": "code",
   "execution_count": null,
   "metadata": {
    "collapsed": false
   },
   "outputs": [],
   "source": [
    "# check_sheetnames('data/121-5450')"
   ]
  },
  {
   "cell_type": "code",
   "execution_count": null,
   "metadata": {
    "collapsed": true
   },
   "outputs": [],
   "source": [
    "def load_month(yr, mth):\n",
    "    "
   ]
  }
 ],
 "metadata": {
  "kernelspec": {
   "display_name": "Python 2",
   "language": "python",
   "name": "python2"
  },
  "language_info": {
   "codemirror_mode": {
    "name": "ipython",
    "version": 2
   },
   "file_extension": ".py",
   "mimetype": "text/x-python",
   "name": "python",
   "nbconvert_exporter": "python",
   "pygments_lexer": "ipython2",
   "version": "2.7.10"
  }
 },
 "nbformat": 4,
 "nbformat_minor": 0
}
