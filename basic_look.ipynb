{
 "cells": [
  {
   "cell_type": "markdown",
   "metadata": {},
   "source": [
    "# Visualizing daily traffic volume\n",
    "\n",
    "As someone constantly looking for ways to waste less time in traffic, I'm always interested in what I can learn about Atlanta traffic patterns. After a bunch of searching, I finally found a way to access numerical traffic data at http://geocounts.com/gdot/, in the form of hourly vehicle counts for several years at different locations Georgia. While I would prefer a way to measure travel time trends, I figured it would be worthwhile to see what could be gleaned from volume measurements. \n",
    "\n",
    "In this post I take a shot at visualizing the volume trends (downloaded from the **load.ipynb** notebook) from a time-series and then clustering point of view using tools from the python data analysis stack. First for the imports and data loading..."
   ]
  },
  {
   "cell_type": "code",
   "execution_count": null,
   "metadata": {
    "collapsed": false
   },
   "outputs": [],
   "source": [
    "%%javascript\n",
    "IPython.keyboard_manager.command_shortcuts.add_shortcut('Ctrl-k','ipython.move-selected-cell-up')\n",
    "IPython.keyboard_manager.command_shortcuts.add_shortcut('Ctrl-j','ipython.move-selected-cell-down')\n",
    "IPython.keyboard_manager.command_shortcuts.add_shortcut('Shift-m','ipython.merge-selected-cell-with-cell-after')"
   ]
  },
  {
   "cell_type": "code",
   "execution_count": null,
   "metadata": {
    "collapsed": false
   },
   "outputs": [],
   "source": [
    "from __future__ import print_function, division\n",
    "from os.path import join, exists, dirname\n",
    "from functools import partial\n",
    "from glob import glob\n",
    "import datetime as dt\n",
    "import calendar\n",
    "from itertools import count\n",
    "from operator import methodcaller as mc\n",
    "\n",
    "import pandas as pd\n",
    "from pandas import DataFrame, Series\n",
    "import numpy as np\n",
    "import matplotlib.pyplot as plt\n",
    "import seaborn as sns\n",
    "import toolz.curried as z\n",
    "\n",
    "from traffic_utils import read, rotate, plot_minor\n",
    "\n",
    "pd.options.display.notebook_repr_html = False\n",
    "pd.options.display.width = 120\n",
    "%matplotlib inline\n",
    "sns.set_palette(sns.color_palette('colorblind', 5))"
   ]
  },
  {
   "cell_type": "code",
   "execution_count": null,
   "metadata": {
    "collapsed": true
   },
   "outputs": [],
   "source": [
    "dow = ['Mon', 'Tue', 'Wed', 'Thu', 'Fri']\n",
    "adow = dow + ['Sat', 'Sun']\n",
    "hrs = map(str, range(24))"
   ]
  },
  {
   "cell_type": "markdown",
   "metadata": {},
   "source": [
    "Of the several sensor sites that were available, I picked one that looked most complete (many had hours and even months missing). This data represents the north-bound traffic flow on Roswell Road."
   ]
  },
  {
   "cell_type": "code",
   "execution_count": null,
   "metadata": {
    "collapsed": false
   },
   "outputs": [],
   "source": [
    "dfnor = read('121-5114', sheet=1, verbose=0).assign(Date=lambda df: df.Date.map(mc('date')))\n",
    "dfnor[:2]"
   ]
  },
  {
   "cell_type": "markdown",
   "metadata": {},
   "source": [
    "Each row of the data represents a day, and there are 24 numerical columns (0-23) representing the number of cars passing the point at the given hour. As a sample of what a week of data looks like, here is the [infamous last week of January 2014](http://news.yahoo.com/atlanta-s--snowpocalypse--turned-ordinary-commutes-into-chaos-and-confusion-174131033.html). Each line represents a separate day, and the $x$ and $y$ axes represent the hour and traffic counts, respectively. There is a general trend of high peaks around noon and 5pm (presumably for lunch and return from work time) and a smaller morning peak at around 9 (this is northbound and north of Atlanta while most traffic will be going down towards the city in the morning)."
   ]
  },
  {
   "cell_type": "code",
   "execution_count": null,
   "metadata": {
    "collapsed": false
   },
   "outputs": [],
   "source": [
    "smgdays = range(27, 32)\n",
    "smg = dfnor.query('Weekday & Year == 2014 & Day_of_year == @smgdays').set_index('Day_of_week')[hrs]\n",
    "smg.T.plot(figsize=(20, 10), linewidth=4, #fontsize=20,\n",
    "           title=('The week of Carmageddon, when Atlanta collectively lost its mind'))"
   ]
  },
  {
   "cell_type": "markdown",
   "metadata": {},
   "source": [
    "### Peak hour\n",
    "I was curious to see whether the peak traffic hour evolves over the year, but sampling the first 5 weekdays in March, June and October indicate that it peaks somewhat consistently on the evening throughout the year at 8am, noon and 5pm."
   ]
  },
  {
   "cell_type": "code",
   "execution_count": null,
   "metadata": {
    "collapsed": true
   },
   "outputs": [],
   "source": [
    "dfwkday = dfnor.query('Weekday').set_index('Date').copy()\n",
    "dfpeak = dfwkday.query('Year == 2014 & Month == [3, 6, 10]').copy()\n",
    "dfpeak['Mday'] = dfpeak.Month.map(str) + dfpeak.Day_of_week\n",
    "dfpeak = dfpeak.drop_duplicates('Mday')"
   ]
  },
  {
   "cell_type": "code",
   "execution_count": null,
   "metadata": {
    "collapsed": false
   },
   "outputs": [],
   "source": [
    "def plotby(df, by=None, f=None, nrows=1, ncols=1):\n",
    "    \"\"\n",
    "    gb = df.groupby(by)\n",
    "    n = len(gb)\n",
    "    return [f(i, gbk, dfgb, n, nrows=nrows, ncols=ncols) for i, (gbk, dfgb) in enumerate(gb, 1)]\n",
    "\n",
    "def plot_days(i, month, dfgb, n, nrows=1, ncols=1, hrs=hrs):\n",
    "    plt.subplot(nrows, ncols, i)\n",
    "    plt.title(calendar.month_name[month])\n",
    "    dfplt_ = dfgb[hrs].T\n",
    "    for c in dfplt_:\n",
    "        plt.plot(dfplt_.index, dfplt_[c])\n",
    "    plt.legend(list(dfplt_), loc='best')\n",
    "\n",
    "plt.figure(figsize=(20, 5))\n",
    "plotby(dfpeak, by='Month', f=partial(plot_days, hrs=hrs[5:20]), nrows=1, ncols=3);"
   ]
  },
  {
   "cell_type": "markdown",
   "metadata": {},
   "source": [
    "And, perhaps not surprisingly, there appears to be a lot less variation from 1-4pm"
   ]
  },
  {
   "cell_type": "code",
   "execution_count": null,
   "metadata": {
    "collapsed": false
   },
   "outputs": [],
   "source": [
    "dfpeak[hrs].T.plot(figsize=(20, 5))\n",
    "plot_minor()"
   ]
  },
  {
   "cell_type": "markdown",
   "metadata": {},
   "source": [
    "Looking at how the peak hours change throughout the year produced a lot of spiky behavior, which taking the moving average helped with:"
   ]
  },
  {
   "cell_type": "code",
   "execution_count": null,
   "metadata": {
    "collapsed": false
   },
   "outputs": [],
   "source": [
    "sns.set(font_scale=1.5)\n",
    "plt.figure(figsize=(20, 6))\n",
    "plot_peak_smoothed = lambda x: pd.rolling_mean(x, 5).plot()\n",
    "get_peak = lambda x: x.T.idxmax().dropna().map(int)\n",
    "\n",
    "am = get_peak(dfwkday[['6', '7', '8', '9', '10']])\n",
    "lunch = get_peak(dfwkday[['10', '11', '12', '13', '14']])\n",
    "pm = get_peak(dfwkday[['14', '15', '16', '17', '18', '19']])\n",
    "\n",
    "plot_peak_smoothed(am)\n",
    "plot_peak_smoothed(lunch)\n",
    "plot_peak_smoothed(pm)\n",
    "\n",
    "year_line = lambda yr: plt.plot([dt.date(yr, 1, 1), dt.date(yr, 1, 1)], [8, 18], '-.', linewidth=.7, c=(0,0,0))\n",
    "map(year_line, [2013, 2014, 2015])\n",
    "\n",
    "rotate(75)\n",
    "plt.xlim()\n",
    "plot_minor()"
   ]
  },
  {
   "cell_type": "markdown",
   "metadata": {},
   "source": [
    "The intuition that peak hour doesn't vary much looks largely correct. They look pretty constant throughout the year, though there appears to be a discernible dip in the peak afternoon time (and corresponding rise in morning and lunch times) around holidays such as Christmas, New Years, Independence day and Labor Day. It looks like the summer months also have a slightly later peak in the morning, perhaps because the school schedule allows for a later departure. There's a lot more variation, though, so it's hard say with a lot of precision.\n",
    "\n",
    "These patterns are perhaps more clear with all the years overlaid on each other:"
   ]
  },
  {
   "cell_type": "code",
   "execution_count": null,
   "metadata": {
    "collapsed": false
   },
   "outputs": [],
   "source": [
    "@z.curry\n",
    "def new_year(newyear, d):\n",
    "    \"Given date object, return copy with same date, but year `newyear`\"\n",
    "    (_, m, day) = d.timetuple()[:3]\n",
    "    return dt.date(newyear, m, day)\n",
    "\n",
    "\n",
    "plt.figure(figsize=(16, 6))\n",
    "for yr, yeardf_ in dfwkday.groupby('Year'):\n",
    "    yeardf = yeardf_.copy()\n",
    "    yeardf.index = yeardf.index.map(new_year(2000))  # Changing all years to 2000 for easier overlay\n",
    "    \n",
    "    am = get_peak(yeardf[['6', '7', '8', '9', '10']])\n",
    "    lunch = get_peak(yeardf[['10', '11', '12', '13', '14']])\n",
    "    pm = get_peak(yeardf[['14', '15', '16', '17', '18', '19']])\n",
    "    \n",
    "    plot_peak_smoothed(am)\n",
    "    plot_peak_smoothed(lunch)\n",
    "    plot_peak_smoothed(pm)\n",
    "rotate(75)"
   ]
  },
  {
   "cell_type": "markdown",
   "metadata": {},
   "source": [
    "## Dimensionality reduction and clustering"
   ]
  },
  {
   "cell_type": "markdown",
   "metadata": {},
   "source": [
    "I was wanting to see how much the traffic volume for each day cluster, using the hourly volume as features. I had a hard time finding obvious clusters on the raw data, and took a detour and tried to visualize the daily volume. PCA didn't reveal anything that stood out to me, but running [TSNE](http://lvdmaaten.github.io/tsne/) revealed some interesting patterns"
   ]
  },
  {
   "cell_type": "code",
   "execution_count": null,
   "metadata": {
    "collapsed": true
   },
   "outputs": [],
   "source": [
    "from sklearn.preprocessing import StandardScaler\n",
    "from sklearn.cluster import DBSCAN, SpectralClustering, KMeans, spectral_clustering, AgglomerativeClustering\n",
    "from sklearn.decomposition import PCA\n",
    "from sklearn.manifold import TSNE"
   ]
  },
  {
   "cell_type": "code",
   "execution_count": null,
   "metadata": {
    "collapsed": true
   },
   "outputs": [],
   "source": [
    "Xdf_ = dfnor.dropna(axis=0, how='any', subset=hrs).copy()\n",
    "Xdf_['Total'] = Xdf_[hrs].sum(axis=1)\n",
    "X = Xdf_[hrs]"
   ]
  },
  {
   "cell_type": "code",
   "execution_count": null,
   "metadata": {
    "collapsed": false
   },
   "outputs": [],
   "source": [
    "%%time\n",
    "np.random.seed(3)\n",
    "ts = TSNE(n_components=2)\n",
    "Xt = ts.fit_transform(X)\n",
    "Xdf_['T1'], Xdf_['T2'] = zip(*Xt)"
   ]
  },
  {
   "cell_type": "markdown",
   "metadata": {},
   "source": [
    "While much slower to run than PCA, TSNE is a popular way to reduce high-dimensional data into 2 or 3 dimensions for informative visualization. With our dataset, it does a good job of cramming the 24 features (traffic volume for each hour of the day) down into just 2 while preserving important characteristics of the data.\n",
    "\n",
    "Here we see how well it spreads the data out, and seems to partition it into 4 natural clusters, compared to the lumpier PCA results which basically just leave us with 2 main clusters:"
   ]
  },
  {
   "cell_type": "code",
   "execution_count": null,
   "metadata": {
    "collapsed": false
   },
   "outputs": [],
   "source": [
    "xpca = DataFrame(PCA(n_components=2).fit_transform(X), columns=['P1', 'P2'])\n",
    "\n",
    "plt.figure(figsize=(16, 5))\n",
    "plt.subplot(1,2,1)\n",
    "plt.title('TSNE')\n",
    "plt.scatter(Xdf_.T1, Xdf_.T2, alpha=.5, c=\"#3498db\")\n",
    "\n",
    "plt.subplot(1,2,2)\n",
    "plt.title('PCA')\n",
    "plt.scatter(xpca.P1, xpca.P2, alpha=.5, c=\"#9b59b6\");"
   ]
  },
  {
   "cell_type": "markdown",
   "metadata": {},
   "source": [
    "After not having much success clustering the raw data, the 2 TSNE dimensions looked like better candidates for clustering, and hierarchical clustering seemed to give pretty good results without much tuning:"
   ]
  },
  {
   "cell_type": "code",
   "execution_count": null,
   "metadata": {
    "collapsed": false
   },
   "outputs": [],
   "source": [
    "Xdf_['Tclust'] = AgglomerativeClustering(n_clusters=4, linkage='average').fit_predict(Xt)\n",
    "\n",
    "# Label each cluster by how many samples are in it\n",
    "Xdf_['Clust_size'] = Xdf_.Tclust.astype(str) + ': n=' + Xdf_.groupby('Tclust').Date.transform(len).map(str)\n",
    "\n",
    "with sns.color_palette('colorblind', Xdf_.Clust_size.nunique()):\n",
    "    sns.lmplot(\"T1\", \"T2\", data=Xdf_, hue='Clust_size', fit_reg=False, size=8, aspect=2)\n",
    "plt.xlim(-20, 22)\n",
    "plt.title('Clustering in TSNE space');"
   ]
  },
  {
   "cell_type": "markdown",
   "metadata": {},
   "source": [
    "It looks like AgglomerativeClustering was able to find the 4 main clusters pretty well; looking at the day of week distribution of the clusters gave a good first pass at dissecting what distinguishes them:"
   ]
  },
  {
   "cell_type": "code",
   "execution_count": null,
   "metadata": {
    "collapsed": false
   },
   "outputs": [],
   "source": [
    "Xdf_.groupby(['Tclust', 'Day_of_week']).size().unstack().fillna(' ')[adow]"
   ]
  },
  {
   "cell_type": "markdown",
   "metadata": {},
   "source": [
    "It looks like the clusters quite neatly decompose into day-of-the-week categories: Saturday (#3), Sunday (#1), Friday (#2) and the rest of the weekdays (#0). I was a little surprised that Fridays are so cleanly segregated from the rest of the weekdays, and initially reasoned from annecdotes that it must be less busy, as it seems colleagues tend to take them off more and traffic seems much lighter compared to the other 4 work days.\n",
    "\n",
    "Just to verify I aggregated average counts by day and found that Fridays don't actually have a discernably higher average traffic flow from 2-7pm. Looking at the medians also didn't give any evidence it's just some outliers pulling up the average."
   ]
  },
  {
   "cell_type": "code",
   "execution_count": null,
   "metadata": {
    "collapsed": false
   },
   "outputs": [],
   "source": [
    "gohomehrs = hrs[14:20]\n",
    "rushhour_pm = Xdf_.query('Weekday')[gohomehrs + ['Day_of_week']].assign(Total=lambda x: x[gohomehrs].sum(axis=1))\n",
    "\n",
    "fig, [ax1, ax2] = plt.subplots(nrows=1, ncols=2, figsize=(17, 5))\n",
    "sns.barplot(x='Day_of_week', y='Total', data=rushhour_pm, ax=ax1);\n",
    "sns.barplot(x='Day_of_week', y='Total', data=rushhour_pm, estimator=np.median, ax=ax2);"
   ]
  },
  {
   "cell_type": "markdown",
   "metadata": {},
   "source": [
    "But plotting a sample of Fridays and non-Fridays shows a bit of a nuanced diffence:"
   ]
  },
  {
   "cell_type": "code",
   "execution_count": null,
   "metadata": {
    "collapsed": false
   },
   "outputs": [],
   "source": [
    "fig, [ax1, ax2] = plt.subplots(nrows=1, ncols=2, figsize=(17, 5))\n",
    "sampkwds = dict(n=30, random_state=1)\n",
    "pltkwds = dict(legend=False, alpha=.25)\n",
    "nofrisamp = dfnor.query('Weekday & Day_of_week != \"Fri\"').sample(**sampkwds)[hrs].T\n",
    "frisamp = dfnor.query('Day_of_week == \"Fri\"').sample(**sampkwds)[hrs].T\n",
    "\n",
    "nofrisamp.plot(ax=ax1, title='Mon-Thurs',**pltkwds)\n",
    "frisamp.plot(ax=ax2, title='Friday', **pltkwds);"
   ]
  },
  {
   "cell_type": "markdown",
   "metadata": {},
   "source": [
    "A couple of major shape differences initially jumped out at me. While traffic drops to about 200 by midnight on work nights, it looks like it's about twice that on Friday nights, and the lull between lunch and 5pm is less pronounced on Fridays. Plotting aggregated median volume at 2pm and 11pm show that this seems to hold for the days not in these samples."
   ]
  },
  {
   "cell_type": "code",
   "execution_count": null,
   "metadata": {
    "collapsed": false
   },
   "outputs": [],
   "source": [
    "fig, [ax1, ax2] = plt.subplots(nrows=1, ncols=2, figsize=(17, 5))\n",
    "lull_night = Xdf_.query('Weekday')[['14', '23', 'Day_of_week']] #.assign(Total=lambda x: x['14'].sum(axis=1))\n",
    "\n",
    "sns.barplot(x='Day_of_week', y='14', data=lull_night, estimator=np.median, ax=ax1);\n",
    "sns.barplot(x='Day_of_week', y='23', data=lull_night, estimator=np.median, ax=ax2);"
   ]
  },
  {
   "cell_type": "markdown",
   "metadata": {},
   "source": [
    "And just for kicks, I thought I'd reverse the hours and look at the normalized cumulative sum to see if anything stood out. Beyond the higher midnight volume, though, nothing really stood out."
   ]
  },
  {
   "cell_type": "code",
   "execution_count": null,
   "metadata": {
    "collapsed": false
   },
   "outputs": [],
   "source": [
    "fig, [ax1, ax2] = plt.subplots(nrows=1, ncols=2, figsize=(17, 5))\n",
    "\n",
    "nofrisamp[::-1].cumsum().apply(lambda x: x / x.max() * 100).plot(ax=ax1, title='Mon-Thurs',**pltkwds)\n",
    "frisamp[::-1].cumsum().apply(lambda x: x / x.max() * 100).plot(ax=ax2, title='Friday', **pltkwds);"
   ]
  },
  {
   "cell_type": "markdown",
   "metadata": {},
   "source": [
    "Anyways, back to those clusters, it looked useful to relabel them according to the most common day in the cluster, and examine the outliers"
   ]
  },
  {
   "cell_type": "code",
   "execution_count": null,
   "metadata": {
    "collapsed": false
   },
   "outputs": [],
   "source": [
    "Xdf_['Day_label'] = Xdf_.Tclust.map({0: 'Week', 1: 'Sun', 2: 'Fri', 3: 'Sat'})\n",
    "with sns.color_palette('colorblind', Xdf_.Day_label.nunique()):\n",
    "    sns.lmplot(\"T1\", \"T2\", data=Xdf_, hue='Day_label', fit_reg=False, size=8, aspect=2)\n",
    "plt.xlim(-20, 22);"
   ]
  },
  {
   "cell_type": "markdown",
   "metadata": {},
   "source": [
    "Of the possible pairings for the four main clusters, the Saturday and Sunday clusters look like they may be hardest to disambiguate. While they can be separated pretty easily on the first dimension, there's a huge amount of overlap in the second. While I don't know of any way to directly interpret TSNE results, it looks like T2 represents something predictive of weekend-ness.\n",
    "\n",
    "\n",
    "Zooming in on the large weekday cluster, labelling with the *actual* day of the week shows an interesting density shift corresponding to the order of the day: the lower left is dominated by Mondays, which transitions to Tuesdays, followed by Wednesdays and ending with Fridays (this trend can also be seen in the successively higher traffic volume at 2pm and 11pm in the median bar plots above)."
   ]
  },
  {
   "cell_type": "code",
   "execution_count": null,
   "metadata": {
    "collapsed": false
   },
   "outputs": [],
   "source": [
    "C0 = (Xdf_.query('Tclust == 0 & Day_of_week != \"Fri\"')\n",
    "      .assign(Daynum=lambda x: x.Day_of_week.map(dict(zip(dow, count()))))\n",
    "      .sort('Daynum'))\n",
    "with sns.color_palette('Paired', C0.Day_of_week.nunique()):\n",
    "    sns.lmplot(\"T1\", \"T2\", data=C0, hue='Day_of_week', fit_reg=False,\n",
    "               size=8, aspect=2, hue_order=dow[:-1], scatter_kws=dict(s=70, alpha=.9))\n",
    "plt.xlim(-15, 15);"
   ]
  },
  {
   "cell_type": "markdown",
   "metadata": {},
   "source": [
    "This ordered shift is more clear in a real density plot, particularly in the *T2* dimension"
   ]
  },
  {
   "cell_type": "code",
   "execution_count": null,
   "metadata": {
    "collapsed": false
   },
   "outputs": [],
   "source": [
    "with sns.color_palette('Paired', C0.Day_of_week.nunique()):\n",
    "    g = sns.JointGrid(\"T1\", \"T2\", C0, size=10)\n",
    "    for day, daydf in C0.groupby('Day_of_week', sort=False):\n",
    "        sns.kdeplot(daydf[\"T1\"], ax=g.ax_marg_x, legend=False)\n",
    "        sns.kdeplot(daydf[\"T2\"], ax=g.ax_marg_y, vertical=True, legend=False)\n",
    "        g.ax_joint.plot(daydf.T1, daydf.T2, \"o\", ms=5)\n",
    "    plt.legend(dow)"
   ]
  },
  {
   "cell_type": "markdown",
   "metadata": {},
   "source": [
    "## Wrapup\n",
    "\n",
    "This post has been a brief exploration into Atlanta traffic patterns. My overall goal was to visually discover characteristics of traffic volume and how these vary over time. I found tracking the peak hour over time to be useful, as well as clustering the data in TSNE space and inspecting what is behind the differences in those clusters. I hope I have also showed useful aspects and capabilities that Python data libraries like pandas, sklearn and seaborn have to offer.\n",
    "\n",
    "There are many more  ways to do this kind of analysis which may be worth looking into. Feel free to download the notebook and do some of your own exploring.\n"
   ]
  }
 ],
 "metadata": {
  "kernelspec": {
   "display_name": "Python 2",
   "language": "python",
   "name": "python2"
  },
  "language_info": {
   "codemirror_mode": {
    "name": "ipython",
    "version": 2
   },
   "file_extension": ".py",
   "mimetype": "text/x-python",
   "name": "python",
   "nbconvert_exporter": "python",
   "pygments_lexer": "ipython2",
   "version": "2.7.10"
  }
 },
 "nbformat": 4,
 "nbformat_minor": 0
}
